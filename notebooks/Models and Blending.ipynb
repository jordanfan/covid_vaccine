{
  "nbformat": 4,
  "nbformat_minor": 5,
  "metadata": {
    "kernelspec": {
      "display_name": "Python 3 (ipykernel)",
      "language": "python",
      "name": "python3"
    },
    "language_info": {
      "codemirror_mode": {
        "name": "ipython",
        "version": 3
      },
      "file_extension": ".py",
      "mimetype": "text/x-python",
      "name": "python",
      "nbconvert_exporter": "python",
      "pygments_lexer": "ipython3",
      "version": "3.7.10"
    },
    "colab": {
      "name": "Models and Blending.ipynb",
      "provenance": [],
      "collapsed_sections": [
        "6932d8f4",
        "576e8d9f",
        "5aa457a2",
        "efa11df0",
        "7d0a8a0d",
        "c219df90",
        "ac093d5b",
        "7dc902e4",
        "a338e15b",
        "b63bb308",
        "03782da7",
        "dc873322"
      ],
      "machine_shape": "hm"
    },
    "accelerator": "GPU"
  },
  "cells": [
    {
      "cell_type": "code",
      "metadata": {
        "colab": {
          "base_uri": "https://localhost:8080/"
        },
        "id": "HEstjXteMqbU",
        "outputId": "658dc792-b193-49ab-d9cf-4898d4374d34"
      },
      "source": [
        "import os \n",
        "from google.colab import drive\n",
        "drive.mount(\"/content/drive/\")"
      ],
      "id": "HEstjXteMqbU",
      "execution_count": null,
      "outputs": [
        {
          "output_type": "stream",
          "name": "stdout",
          "text": [
            "Mounted at /content/drive/\n"
          ]
        }
      ]
    },
    {
      "cell_type": "code",
      "metadata": {
        "id": "330f1ac4"
      },
      "source": [
        "import warnings \n",
        "import time\n",
        "warnings.filterwarnings(\"ignore\")\n",
        "import numpy as np \n",
        "import pandas as pd \n",
        "import nltk\n",
        "import pickle\n",
        "from sklearn.feature_extraction.text import CountVectorizer\n",
        "from sklearn.feature_extraction.text import TfidfVectorizer\n",
        "from sklearn.preprocessing import StandardScaler\n",
        "from sklearn.decomposition import PCA\n",
        "from sklearn.linear_model import LogisticRegression\n",
        "from sklearn.svm import LinearSVC, SVC\n",
        "from sklearn.naive_bayes import MultinomialNB\n",
        "from sklearn.neighbors import KNeighborsClassifier\n",
        "from sklearn.experimental import enable_hist_gradient_boosting\n",
        "from sklearn.ensemble import HistGradientBoostingClassifier\n",
        "from sklearn.metrics import classification_report,confusion_matrix, accuracy_score, precision_score, recall_score\n",
        "from sklearn.model_selection import train_test_split, cross_val_score, GridSearchCV, RepeatedStratifiedKFold\n",
        "from xgboost import XGBClassifier\n",
        "from xgboost import plot_importance\n",
        "from matplotlib import pyplot\n",
        "import seaborn as sns\n",
        "#import lightgbm as lgb\n",
        "from scipy import sparse\n",
        "from scipy.sparse import hstack\n",
        "from keras.models import Sequential\n",
        "from keras.layers import Dense, LSTM, Embedding, Bidirectional, Dropout\n",
        "from keras.utils.np_utils import to_categorical\n",
        "import matplotlib.pyplot as plt\n",
        "pd.set_option(\"display.max_columns\", 250)"
      ],
      "id": "330f1ac4",
      "execution_count": null,
      "outputs": []
    },
    {
      "cell_type": "code",
      "metadata": {
        "id": "577f8332"
      },
      "source": [
        "df = pd.read_csv(\"/content/drive/My Drive/Colab Notebooks/covid_vaccine_symptoms.csv\")"
      ],
      "id": "577f8332",
      "execution_count": null,
      "outputs": []
    },
    {
      "cell_type": "markdown",
      "metadata": {
        "id": "47d17c5b"
      },
      "source": [
        "- Predict whether person will develop serious side effects based on their current conditions before receiving the vaccine"
      ],
      "id": "47d17c5b"
    },
    {
      "cell_type": "code",
      "metadata": {
        "id": "aa480477"
      },
      "source": [
        "# Examine predictive power of non-text features first\n",
        "features_nontext = [\"vax_manu\", \"vax_dose_series\", \"state\", \"age_yrs\", \"sex\"]\n",
        "X_nt = df[features_nontext]\n",
        "X_nt = pd.get_dummies(X_nt, drop_first = True)\n",
        "y = df[\"serious_se\"]\n",
        "X1_train, X1_test, y1_train, y1_test = train_test_split(X_nt, y, test_size = 0.2, random_state=3258)\n",
        "X1_train, X1_val, y1_train, y1_val = train_test_split(X1_train, y1_train, test_size = 0.2, random_state = 5829)"
      ],
      "id": "aa480477",
      "execution_count": null,
      "outputs": []
    },
    {
      "cell_type": "markdown",
      "metadata": {
        "id": "701ff7e3"
      },
      "source": [
        "# Baseline"
      ],
      "id": "701ff7e3"
    },
    {
      "cell_type": "code",
      "metadata": {
        "id": "ac7dd2a1"
      },
      "source": [
        "y1_train = np.array(y1_train.apply(lambda x: 0 if x == \"not serious\" else \n",
        "                                1 if x == \"serious\" else\n",
        "                                2))\n",
        "y1_val = np.array(y1_val.apply(lambda x: 0 if x == \"not serious\" else \n",
        "                                1 if x == \"serious\" else\n",
        "                                2))\n",
        "y1_test = np.array(y1_test.apply(lambda x: 0 if x == \"not serious\" else \n",
        "                                1 if x == \"serious\" else\n",
        "                                2))"
      ],
      "id": "ac7dd2a1",
      "execution_count": null,
      "outputs": []
    },
    {
      "cell_type": "code",
      "metadata": {
        "id": "9ac2716c",
        "colab": {
          "base_uri": "https://localhost:8080/"
        },
        "outputId": "d5e2af59-1ab8-4345-f973-474701baab11"
      },
      "source": [
        "print(\"Training Accuracy:\", accuracy_score(y1_train, np.array([np.argmax(np.bincount(y1_train))] * y1_train.shape[0])))\n",
        "print(\"Validation Accuracy:\", accuracy_score(y1_val, np.array([np.argmax(np.bincount(y1_train))] * y1_val.shape[0])))\n",
        "print(\"Test Accuracy:\", accuracy_score(y1_test, np.array([np.argmax(np.bincount(y1_train))] * y1_test.shape[0])))"
      ],
      "id": "9ac2716c",
      "execution_count": null,
      "outputs": [
        {
          "output_type": "stream",
          "name": "stdout",
          "text": [
            "Training Accuracy: 0.795719222838556\n",
            "Validation Accuracy: 0.7958413196259511\n",
            "Test Accuracy: 0.7972677849542308\n"
          ]
        }
      ]
    },
    {
      "cell_type": "markdown",
      "metadata": {
        "id": "fe7be0ab"
      },
      "source": [
        "# Logistic Regression No Text"
      ],
      "id": "fe7be0ab"
    },
    {
      "cell_type": "code",
      "metadata": {
        "id": "9e4fa1aa",
        "outputId": "a335418d-8010-4d83-f0ff-f3e75a7d5dd3"
      },
      "source": [
        "lr_baseline = LogisticRegression(multi_class=\"multinomial\", solver = \"lbfgs\")\n",
        "cv = RepeatedStratifiedKFold(n_splits = 3, n_repeats = 3, random_state = 2352)\n",
        "n_scores = cross_val_score(lr_baseline, X1_train, y1_train, scoring = \"accuracy\", cv = cv, n_jobs = -1)\n",
        "print('Mean Accuracy: %.3f (%.3f)' % (np.mean(n_scores), np.std(n_scores)))"
      ],
      "id": "9e4fa1aa",
      "execution_count": null,
      "outputs": [
        {
          "name": "stdout",
          "output_type": "stream",
          "text": [
            "Mean Accuracy: 0.797 (0.000)\n"
          ]
        }
      ]
    },
    {
      "cell_type": "markdown",
      "metadata": {
        "id": "bcaa8ce4"
      },
      "source": [
        "# KNN No Text"
      ],
      "id": "bcaa8ce4"
    },
    {
      "cell_type": "code",
      "metadata": {
        "id": "81b3ba26",
        "outputId": "93063a64-6980-4a8e-b7ca-1dd52441abe6"
      },
      "source": [
        "baseline_knn = KNeighborsClassifier()\n",
        "cv = RepeatedStratifiedKFold(n_splits = 3, n_repeats = 1, random_state = 2352)\n",
        "n_scores = cross_val_score(baseline_knn, X1_train, y1_train, scoring = \"accuracy\", cv = cv, n_jobs = -1, error_score = \"raise\")\n",
        "print('Mean Accuracy: %.3f (%.3f)' % (np.mean(n_scores), np.std(n_scores)))"
      ],
      "id": "81b3ba26",
      "execution_count": null,
      "outputs": [
        {
          "name": "stdout",
          "output_type": "stream",
          "text": [
            "Mean Accuracy: 0.777 (0.001)\n"
          ]
        }
      ]
    },
    {
      "cell_type": "markdown",
      "metadata": {
        "id": "ce01faae"
      },
      "source": [
        "* KNN performed worse than the baseline accuracy"
      ],
      "id": "ce01faae"
    },
    {
      "cell_type": "markdown",
      "metadata": {
        "id": "bde2fdfb"
      },
      "source": [
        "# SVM No Text"
      ],
      "id": "bde2fdfb"
    },
    {
      "cell_type": "code",
      "metadata": {
        "id": "4de0f99c",
        "outputId": "5bf69594-486b-4c6b-e0f6-3eb32415197e"
      },
      "source": [
        "baseline_svm = SVC(random_state = 2320)\n",
        "cv = RepeatedStratifiedKFold(n_splits=3, n_repeats=1, random_state=2352)\n",
        "n_scores = cross_val_score(baseline_svm, X1_train, y1_train, scoring = \"accuracy\", cv = cv, n_jobs = -1, error_score = \"raise\")\n",
        "print('Mean Accuracy: %.3f (%.3f)' % (np.mean(n_scores), np.std(n_scores)))"
      ],
      "id": "4de0f99c",
      "execution_count": null,
      "outputs": [
        {
          "name": "stderr",
          "output_type": "stream",
          "text": [
            "/Users/jordanfan/opt/anaconda3/envs/vaers/lib/python3.7/site-packages/sklearn/linear_model/_logistic.py:765: ConvergenceWarning: lbfgs failed to converge (status=1):\n",
            "STOP: TOTAL NO. of ITERATIONS REACHED LIMIT.\n",
            "\n",
            "Increase the number of iterations (max_iter) or scale the data as shown in:\n",
            "    https://scikit-learn.org/stable/modules/preprocessing.html\n",
            "Please also refer to the documentation for alternative solver options:\n",
            "    https://scikit-learn.org/stable/modules/linear_model.html#logistic-regression\n",
            "  extra_warning_msg=_LOGISTIC_SOLVER_CONVERGENCE_MSG)\n",
            "/Users/jordanfan/opt/anaconda3/envs/vaers/lib/python3.7/site-packages/sklearn/linear_model/_logistic.py:765: ConvergenceWarning: lbfgs failed to converge (status=1):\n",
            "STOP: TOTAL NO. of ITERATIONS REACHED LIMIT.\n",
            "\n",
            "Increase the number of iterations (max_iter) or scale the data as shown in:\n",
            "    https://scikit-learn.org/stable/modules/preprocessing.html\n",
            "Please also refer to the documentation for alternative solver options:\n",
            "    https://scikit-learn.org/stable/modules/linear_model.html#logistic-regression\n",
            "  extra_warning_msg=_LOGISTIC_SOLVER_CONVERGENCE_MSG)\n"
          ]
        },
        {
          "name": "stdout",
          "output_type": "stream",
          "text": [
            "Mean Accuracy: 0.796 (0.000)\n"
          ]
        }
      ]
    },
    {
      "cell_type": "markdown",
      "metadata": {
        "id": "00f609d2"
      },
      "source": [
        "# Naive Bayes No Text"
      ],
      "id": "00f609d2"
    },
    {
      "cell_type": "code",
      "metadata": {
        "id": "c0c41972",
        "outputId": "17d91ed5-22e2-44b4-8825-d6a3731a3a13"
      },
      "source": [
        "baseline_nb = MultinomialNB()\n",
        "cv = RepeatedStratifiedKFold(n_splits=3, n_repeats=1, random_state=2352)\n",
        "n_scores = cross_val_score(baseline_nb, X1_train, y1_train, scoring = \"accuracy\", cv = cv, n_jobs = -1, error_score = \"raise\")\n",
        "print('Mean Accuracy: %.3f (%.3f)' % (np.mean(n_scores), np.std(n_scores)))"
      ],
      "id": "c0c41972",
      "execution_count": null,
      "outputs": [
        {
          "name": "stdout",
          "output_type": "stream",
          "text": [
            "Mean Accuracy: 0.796 (0.000)\n"
          ]
        }
      ]
    },
    {
      "cell_type": "markdown",
      "metadata": {
        "id": "69a24fd4"
      },
      "source": [
        "* Same score as SVM"
      ],
      "id": "69a24fd4"
    },
    {
      "cell_type": "markdown",
      "metadata": {
        "id": "07775bd8"
      },
      "source": [
        "# Boosting No Text"
      ],
      "id": "07775bd8"
    },
    {
      "cell_type": "code",
      "metadata": {
        "id": "b48a8db5",
        "outputId": "a490d0d2-972c-464b-aabb-0b32a6a36e3a"
      },
      "source": [
        "baseline_boosting = XGBClassifier(random_state=1530)\n",
        "cv = RepeatedStratifiedKFold(n_splits=3, n_repeats=1, random_state=2352)\n",
        "n_scores = cross_val_score(baseline_boosting, X1_train, y1_train, scoring = \"accuracy\", cv = cv, n_jobs = -1, error_score = \"raise\")\n",
        "print('Mean Accuracy: %.3f (%.3f)' % (np.mean(n_scores), np.std(n_scores)))"
      ],
      "id": "b48a8db5",
      "execution_count": null,
      "outputs": [
        {
          "name": "stdout",
          "output_type": "stream",
          "text": [
            "Mean Accuracy: 0.799 (0.001)\n"
          ]
        }
      ]
    },
    {
      "cell_type": "markdown",
      "metadata": {
        "id": "1e6d1312"
      },
      "source": [
        "* No model significantly improved the baseline accuracy "
      ],
      "id": "1e6d1312"
    },
    {
      "cell_type": "code",
      "metadata": {
        "id": "57916367",
        "outputId": "5027a904-5dcf-4bf7-d49c-e63baba2c2c6"
      },
      "source": [
        "baseline_boosting.fit(X1_train, y1_train)\n",
        "plot_importance(baseline_boosting, max_num_features = 10)\n",
        "pyplot.show()"
      ],
      "id": "57916367",
      "execution_count": null,
      "outputs": [
        {
          "name": "stdout",
          "output_type": "stream",
          "text": [
            "[00:36:02] WARNING: /Users/travis/build/dmlc/xgboost/src/learner.cc:1095: Starting in XGBoost 1.3.0, the default evaluation metric used with the objective 'multi:softprob' was changed from 'merror' to 'mlogloss'. Explicitly set eval_metric if you'd like to restore the old behavior.\n"
          ]
        },
        {
          "data": {
            "image/png": "[encoded data removed]",
            "text/plain": [
              "<Figure size 432x288 with 1 Axes>"
            ]
          },
          "metadata": {
            "needs_background": "light"
          },
          "output_type": "display_data"
        }
      ]
    },
    {
      "cell_type": "markdown",
      "metadata": {
        "id": "f7b19c9c"
      },
      "source": [
        "* The most important feature, unsurprisingly, is age\n"
      ],
      "id": "f7b19c9c"
    },
    {
      "cell_type": "markdown",
      "metadata": {
        "id": "8711bc24"
      },
      "source": [
        "# TF-IDF"
      ],
      "id": "8711bc24"
    },
    {
      "cell_type": "code",
      "metadata": {
        "scrolled": true,
        "id": "c10bbf38"
      },
      "source": [
        "#incorporate both text and non-text features\n",
        "features = [\"vax_manu\", \"vax_dose_series\", \"state\", \"age_yrs\", \"sex\", \"lab_data_cleaned\", \"other_meds_cleaned\", \"cur_ill_cleaned\", \"history_cleaned\", \"prior_vax_cleaned\", \"allergies_cleaned\"]\n",
        "X = df[features] \n",
        "y = df[\"serious_se\"]\n",
        "\n",
        "X_train, X_test, y_train, y_test = train_test_split(X, y, test_size = 0.2, random_state=3258)\n",
        "X_train, X_val, y_train, y_val = train_test_split(X_train, y_train, test_size = 0.2, random_state = 5829)"
      ],
      "id": "c10bbf38",
      "execution_count": null,
      "outputs": []
    },
    {
      "cell_type": "markdown",
      "metadata": {
        "id": "87002cfb"
      },
      "source": [
        "### Convert Categorical Vars to Dummy and Transform to Sparse Matrix"
      ],
      "id": "87002cfb"
    },
    {
      "cell_type": "code",
      "metadata": {
        "id": "89595690"
      },
      "source": [
        "X_train_sparse = sparse.csr_matrix(np.array(pd.get_dummies(X_train[features[:5]], drop_first = True)))\n",
        "X_val_sparse = sparse.csr_matrix(np.array(pd.get_dummies(X_val[features[:5]], drop_first = True)))\n",
        "X_test_sparse = sparse.csr_matrix(np.array(pd.get_dummies(X_test[features[:5]], drop_first = True)))"
      ],
      "id": "89595690",
      "execution_count": null,
      "outputs": []
    },
    {
      "cell_type": "markdown",
      "metadata": {
        "id": "9109f85d"
      },
      "source": [
        "### Calculate TF-IDF for each text column"
      ],
      "id": "9109f85d"
    },
    {
      "cell_type": "code",
      "metadata": {
        "colab": {
          "base_uri": "https://localhost:8080/"
        },
        "id": "4246901d",
        "outputId": "b0fc6a63-b6c8-4a68-e7d6-16d0e1d7d823"
      },
      "source": [
        "#Lab Data\n",
        "tv_lab_data = TfidfVectorizer(min_df = 0.001, ngram_range = (1,3))\n",
        "tv_lab_data_train = tv_lab_data.fit_transform(X_train[\"lab_data_cleaned\"].astype(str))\n",
        "tv_lab_data_val = tv_lab_data.transform(X_val[\"lab_data_cleaned\"].astype(str))\n",
        "tv_lab_data_test = tv_lab_data.transform(X_test[\"lab_data_cleaned\"].astype(str))\n",
        "tv_lab_data_train.shape"
      ],
      "id": "4246901d",
      "execution_count": null,
      "outputs": [
        {
          "output_type": "execute_result",
          "data": {
            "text/plain": [
              "(68866, 944)"
            ]
          },
          "metadata": {},
          "execution_count": 9
        }
      ]
    },
    {
      "cell_type": "code",
      "metadata": {
        "colab": {
          "base_uri": "https://localhost:8080/"
        },
        "id": "dcd9057e",
        "outputId": "2782a3d7-9cb9-4e1c-ceb4-e04bc2055fd6"
      },
      "source": [
        "#Other Meds\n",
        "tv_other_meds = TfidfVectorizer(min_df = 0.001, ngram_range = (1,3))\n",
        "tv_other_meds_train = tv_other_meds.fit_transform(X_train[\"other_meds_cleaned\"].astype(str))\n",
        "tv_other_meds_val = tv_other_meds.transform(X_val[\"other_meds_cleaned\"].astype(str))\n",
        "tv_other_meds_test = tv_other_meds.transform(X_test[\"other_meds_cleaned\"].astype(str))\n",
        "tv_other_meds_train.shape"
      ],
      "id": "dcd9057e",
      "execution_count": null,
      "outputs": [
        {
          "output_type": "execute_result",
          "data": {
            "text/plain": [
              "(68866, 815)"
            ]
          },
          "metadata": {},
          "execution_count": 10
        }
      ]
    },
    {
      "cell_type": "code",
      "metadata": {
        "colab": {
          "base_uri": "https://localhost:8080/"
        },
        "id": "0d1c3a1b",
        "outputId": "a9299154-51df-4831-ec65-160b9c35743a"
      },
      "source": [
        "#Current Illnesses\n",
        "tv_cur_ill = TfidfVectorizer(min_df = 0.001, ngram_range = (1,3))\n",
        "tv_cur_ill_train = tv_cur_ill.fit_transform(X_train[\"cur_ill_cleaned\"].astype(str))\n",
        "tv_cur_ill_val = tv_cur_ill.transform(X_val[\"cur_ill_cleaned\"].astype(str))\n",
        "tv_cur_ill_test = tv_cur_ill.transform(X_test[\"cur_ill_cleaned\"].astype(str))\n",
        "tv_cur_ill_train.shape"
      ],
      "id": "0d1c3a1b",
      "execution_count": null,
      "outputs": [
        {
          "output_type": "execute_result",
          "data": {
            "text/plain": [
              "(68866, 171)"
            ]
          },
          "metadata": {},
          "execution_count": 11
        }
      ]
    },
    {
      "cell_type": "code",
      "metadata": {
        "colab": {
          "base_uri": "https://localhost:8080/"
        },
        "id": "4ad18302",
        "outputId": "cae1d86d-22d0-4100-e752-135572ca1f2c"
      },
      "source": [
        "#History \n",
        "tv_history = TfidfVectorizer(min_df = 0.001, ngram_range = (1,3))\n",
        "tv_history_train = tv_history.fit_transform(X_train[\"history_cleaned\"].astype(str))\n",
        "tv_history_val = tv_history.transform(X_val[\"history_cleaned\"].astype(str))\n",
        "tv_history_test = tv_history.transform(X_test[\"history_cleaned\"].astype(str))\n",
        "tv_history_train.shape"
      ],
      "id": "4ad18302",
      "execution_count": null,
      "outputs": [
        {
          "output_type": "execute_result",
          "data": {
            "text/plain": [
              "(68866, 586)"
            ]
          },
          "metadata": {},
          "execution_count": 12
        }
      ]
    },
    {
      "cell_type": "code",
      "metadata": {
        "colab": {
          "base_uri": "https://localhost:8080/"
        },
        "id": "b7762e8e",
        "outputId": "e7f2e4c8-95bd-4877-f350-8cf4e07d6273"
      },
      "source": [
        "#Prior Vaccinations\n",
        "tv_vax = TfidfVectorizer(min_df = 0.001, ngram_range = (1,3))\n",
        "tv_vax_train = tv_vax.fit_transform(X_train[\"prior_vax_cleaned\"].astype(str))\n",
        "tv_vax_val = tv_vax.transform(X_val[\"prior_vax_cleaned\"].astype(str))\n",
        "tv_vax_test = tv_vax.transform(X_test[\"prior_vax_cleaned\"].astype(str))\n",
        "tv_vax_train.shape"
      ],
      "id": "b7762e8e",
      "execution_count": null,
      "outputs": [
        {
          "output_type": "execute_result",
          "data": {
            "text/plain": [
              "(68866, 72)"
            ]
          },
          "metadata": {},
          "execution_count": 13
        }
      ]
    },
    {
      "cell_type": "code",
      "metadata": {
        "colab": {
          "base_uri": "https://localhost:8080/"
        },
        "id": "7f47c575",
        "outputId": "1c2e72aa-e114-4df4-d143-fabd79209353"
      },
      "source": [
        "#Allergies\n",
        "tv_allergies = TfidfVectorizer(min_df = 0.001, ngram_range = (1,3))\n",
        "tv_allergies_train = tv_allergies.fit_transform(X_train[\"allergies_cleaned\"].astype(str))\n",
        "tv_allergies_val = tv_allergies.transform(X_val[\"allergies_cleaned\"].astype(str))\n",
        "tv_allergies_test = tv_allergies.transform(X_test[\"allergies_cleaned\"].astype(str))\n",
        "tv_allergies_train.shape"
      ],
      "id": "7f47c575",
      "execution_count": null,
      "outputs": [
        {
          "output_type": "execute_result",
          "data": {
            "text/plain": [
              "(68866, 212)"
            ]
          },
          "metadata": {},
          "execution_count": 14
        }
      ]
    },
    {
      "cell_type": "code",
      "metadata": {
        "scrolled": true,
        "id": "cd7bca3a"
      },
      "source": [
        "scaler = StandardScaler()\n",
        "#combine all text and non-text variables\n",
        "xtrain = hstack((X_train_sparse, tv_lab_data_train, tv_other_meds_train, tv_cur_ill_train, tv_history_train, tv_vax_train, tv_allergies_train)).toarray()\n",
        "xval = hstack((X_val_sparse, tv_lab_data_val, tv_other_meds_val, tv_cur_ill_val, tv_history_val, tv_vax_val, tv_allergies_val)).toarray()\n",
        "xtest = hstack((X_test_sparse, tv_lab_data_test, tv_other_meds_test, tv_cur_ill_test, tv_history_test, tv_vax_test, tv_allergies_test)).toarray()\n",
        "#standardize all variables\n",
        "scaler.fit(xtrain)\n",
        "xtrain = scaler.transform(xtrain)\n",
        "xval = scaler.transform(xval)\n",
        "xtest = scaler.transform(xtest)"
      ],
      "id": "cd7bca3a",
      "execution_count": null,
      "outputs": []
    },
    {
      "cell_type": "code",
      "metadata": {
        "id": "65a40ab7"
      },
      "source": [
        "ytrain = np.array(y_train.apply(lambda x: 0 if x == \"not serious\" else \n",
        "                                1 if x == \"serious\" else\n",
        "                                2))\n",
        "yval = np.array(y_val.apply(lambda x: 0 if x == \"not serious\" else \n",
        "                                1 if x == \"serious\" else\n",
        "                                2))\n",
        "ytest = np.array(y_test.apply(lambda x: 0 if x == \"not serious\" else \n",
        "                                1 if x == \"serious\" else\n",
        "                                2))"
      ],
      "id": "65a40ab7",
      "execution_count": null,
      "outputs": []
    },
    {
      "cell_type": "markdown",
      "metadata": {
        "id": "de59ce1c"
      },
      "source": [
        "# Logistic Regression w/ Text"
      ],
      "id": "de59ce1c"
    },
    {
      "cell_type": "code",
      "metadata": {
        "id": "499fbba9"
      },
      "source": [
        "lr_baseline = LogisticRegression(multi_class=\"multinomial\", solver = \"lbfgs\")\n",
        "cv = RepeatedStratifiedKFold(n_splits = 3, n_repeats = 3, random_state = 2352)\n",
        "n_scores = cross_val_score(lr_baseline, xtrain, ytrain, scoring = \"accuracy\", cv = cv, n_jobs = -1)"
      ],
      "id": "499fbba9",
      "execution_count": null,
      "outputs": []
    },
    {
      "cell_type": "code",
      "metadata": {
        "id": "325eb5f6",
        "outputId": "df381cbf-ea75-454d-cb99-22d4288e6055"
      },
      "source": [
        "print('Mean Accuracy: %.3f (%.3f)' % (np.mean(n_scores), np.std(n_scores)))"
      ],
      "id": "325eb5f6",
      "execution_count": null,
      "outputs": [
        {
          "name": "stdout",
          "output_type": "stream",
          "text": [
            "Mean Accuracy: 0.829 (0.001)\n"
          ]
        }
      ]
    },
    {
      "cell_type": "markdown",
      "metadata": {
        "id": "59ffbace"
      },
      "source": [
        "### Logistic Regression w/ L2 Penalty"
      ],
      "id": "59ffbace"
    },
    {
      "cell_type": "code",
      "metadata": {
        "id": "03ce7a9e",
        "outputId": "d680ff8b-b19a-4e8c-f025-251f1a1caf32"
      },
      "source": [
        "C = [0.0001, 0.0005, 0.001, 0.005, 0.01]\n",
        "for c in C: \n",
        "    lr = LogisticRegression(multi_class=\"multinomial\", solver = \"lbfgs\", penalty = \"l2\", C = c)\n",
        "    lr_cv = RepeatedStratifiedKFold(n_splits = 3, n_repeats = 1, random_state = 2352)\n",
        "    n_scores = cross_val_score(lr, xtrain, ytrain, scoring = \"accuracy\", cv = lr_cv, n_jobs = -1)\n",
        "    print(\"C:\", c)\n",
        "    print('Mean Accuracy: %.3f (%.3f)' % (np.mean(n_scores), np.std(n_scores)))"
      ],
      "id": "03ce7a9e",
      "execution_count": null,
      "outputs": [
        {
          "name": "stdout",
          "output_type": "stream",
          "text": [
            "C: 0.0001\n",
            "Mean Accuracy: 0.843 (0.001)\n",
            "C: 0.0005\n",
            "Mean Accuracy: 0.842 (0.001)\n",
            "C: 0.001\n",
            "Mean Accuracy: 0.841 (0.001)\n",
            "C: 0.005\n",
            "Mean Accuracy: 0.837 (0.001)\n",
            "C: 0.01\n",
            "Mean Accuracy: 0.835 (0.001)\n"
          ]
        }
      ]
    },
    {
      "cell_type": "code",
      "metadata": {
        "id": "1a54ce9c",
        "outputId": "98dde708-b486-4a82-e6ab-de1416861926"
      },
      "source": [
        "#Accuracy decreases with increase in C, decrease C value\n",
        "C = np.linspace(0, 0.00005, 3)\n",
        "for c in C: \n",
        "    lr = LogisticRegression(multi_class=\"multinomial\", solver = \"lbfgs\", penalty = \"l2\", C = c)\n",
        "    lr_cv = RepeatedStratifiedKFold(n_splits = 3, n_repeats = 1, random_state = 2352)\n",
        "    n_scores = cross_val_score(lr, xtrain, ytrain, scoring = \"accuracy\", cv = lr_cv, n_jobs = -1)\n",
        "    print(\"C:\", c)\n",
        "    print('Mean Accuracy: %.3f (%.3f)' % (np.mean(n_scores), np.std(n_scores)))"
      ],
      "id": "1a54ce9c",
      "execution_count": null,
      "outputs": [
        {
          "name": "stdout",
          "output_type": "stream",
          "text": [
            "C: 0.0\n",
            "Mean Accuracy: 0.796 (0.000)\n",
            "C: 2.5e-05\n",
            "Mean Accuracy: 0.833 (0.000)\n",
            "C: 5e-05\n",
            "Mean Accuracy: 0.839 (0.001)\n"
          ]
        }
      ]
    },
    {
      "cell_type": "code",
      "metadata": {
        "id": "46399037"
      },
      "source": [
        "lr = LogisticRegression(multi_class = \"multinomial\", solver = \"lbfgs\", penalty = \"l2\", C = 0.0001)\n",
        "lr.fit(xtrain, ytrain)\n",
        "lr_predictions_proba = pd.DataFrame(lr.predict_proba(xval))\n",
        "lr_preds = np.array(lr_predictions_proba.idxmax(axis = 1))"
      ],
      "id": "46399037",
      "execution_count": null,
      "outputs": []
    },
    {
      "cell_type": "markdown",
      "metadata": {
        "id": "05414e68"
      },
      "source": [
        "# Boosting w/ Text"
      ],
      "id": "05414e68"
    },
    {
      "cell_type": "markdown",
      "metadata": {
        "id": "Rg9k-uCuTfRf"
      },
      "source": [
        "### Maximizing Learning Rate and N Estimators"
      ],
      "id": "Rg9k-uCuTfRf"
    },
    {
      "cell_type": "code",
      "metadata": {
        "colab": {
          "base_uri": "https://localhost:8080/"
        },
        "id": "528cc798",
        "outputId": "60ad5c29-df71-4f00-99a9-c3436dd9354c"
      },
      "source": [
        "acc = pd.DataFrame({\"learning_rate\": [], \"n_estimators\": [], \"acc\": []})\n",
        "learning_rate = [0.05, 0.01, 0.001] #[0.5, 0.25, 0.1, 0.05]\n",
        "n_estimators = [2000, 3000, 4000] #[100, 500, 1000]\n",
        "for rate in learning_rate:\n",
        "  for estimators in n_estimators:\n",
        "    start = time.time()\n",
        "    print(f\"Rate: {rate}, N Estimators {estimators}\")\n",
        "    boost = XGBClassifier(learning_rate = rate, n_estimators= estimators, tree_method = \"gpu_hist\", random_state = 1530)\n",
        "    cv = RepeatedStratifiedKFold(n_splits=3, n_repeats=1, random_state=2352)\n",
        "    n_scores = cross_val_score(boost, xtrain, ytrain, scoring = \"accuracy\", cv = cv, n_jobs = -1, error_score = \"raise\")\n",
        "    print(f\"   Score: {np.round(np.mean(n_scores), 4)}\")\n",
        "    print(f\"   Time Elapsed: {np.round(time.time() - start, 1)}\")\n",
        "    acc = pd.concat([acc, pd.DataFrame({\"learning_rate\": [rate], \"n_estimators\": [estimators], \"acc\": [np.mean(n_scores)]})], axis = 0)"
      ],
      "id": "528cc798",
      "execution_count": null,
      "outputs": [
        {
          "output_type": "stream",
          "name": "stdout",
          "text": [
            "Rate: 0.05, N Estimators 2000\n",
            "   Score: 0.8503\n",
            "   Time Elapsed: 298.2\n",
            "Rate: 0.05, N Estimators 3000\n",
            "   Score: 0.8498\n",
            "   Time Elapsed: 453.4\n",
            "Rate: 0.05, N Estimators 4000\n",
            "   Score: 0.8498\n",
            "   Time Elapsed: 579.6\n",
            "Rate: 0.01, N Estimators 2000\n",
            "   Score: 0.8461\n",
            "   Time Elapsed: 310.8\n",
            "Rate: 0.01, N Estimators 3000\n",
            "   Score: 0.8471\n",
            "   Time Elapsed: 455.2\n",
            "Rate: 0.01, N Estimators 4000\n",
            "   Score: 0.848\n",
            "   Time Elapsed: 597.9\n",
            "Rate: 0.001, N Estimators 2000\n",
            "   Score: 0.8287\n",
            "   Time Elapsed: 333.0\n",
            "Rate: 0.001, N Estimators 3000\n",
            "   Score: 0.832\n",
            "   Time Elapsed: 522.5\n",
            "Rate: 0.001, N Estimators 4000\n",
            "   Score: 0.8342\n",
            "   Time Elapsed: 680.9\n"
          ]
        }
      ]
    },
    {
      "cell_type": "markdown",
      "metadata": {
        "id": "tUe8xrDfxPci"
      },
      "source": [
        "### Maximize max depth of tree and L2 regularization"
      ],
      "id": "tUe8xrDfxPci"
    },
    {
      "cell_type": "code",
      "metadata": {
        "colab": {
          "base_uri": "https://localhost:8080/"
        },
        "id": "tI3fDVWswPI4",
        "outputId": "58828a95-9252-47d2-ffe8-bc875bf512c3"
      },
      "source": [
        "acc2 = pd.DataFrame({\"depth\": [], \"lambda\": [], \"acc\": []})\n",
        "depths = [5, 6, 7] #[6, 8, 10]\n",
        "lambdas = [0.25, 0.1, 0.01] #[0.01, 0.001, 0.0001]\n",
        "for depth in depths:\n",
        "  for lambda_ in lambdas:\n",
        "    start = time.time()\n",
        "    print(f\"Depth: {depth}, Lambda {lambda_}\")\n",
        "    boost = XGBClassifier(learning_rate = 0.05, n_estimators= 2000, max_depth = depth, reg_lambda = lambda_, tree_method = \"gpu_hist\", random_state = 1530)\n",
        "    cv = RepeatedStratifiedKFold(n_splits=3, n_repeats=1, random_state=2352)\n",
        "    n_scores = cross_val_score(boost, xtrain, ytrain, scoring = \"accuracy\", cv = cv, n_jobs = -1, error_score = \"raise\")\n",
        "    print(f\"   Score: {np.round(np.mean(n_scores), 4)}\")\n",
        "    print(f\"   Time Elapsed: {np.round(time.time() - start, 1)}\")\n",
        "    acc2 = pd.concat([acc, pd.DataFrame({\"depth\": [depth], \"lambda\": [lambda_], \"acc\": [np.mean(n_scores)]})], axis = 0)"
      ],
      "id": "tI3fDVWswPI4",
      "execution_count": null,
      "outputs": [
        {
          "output_type": "stream",
          "name": "stdout",
          "text": [
            "Depth: 5, Lambda 0.25\n",
            "   Score: 0.8511\n",
            "   Time Elapsed: 368.4\n",
            "Depth: 5, Lambda 0.1\n",
            "   Score: 0.8511\n",
            "   Time Elapsed: 370.8\n",
            "Depth: 5, Lambda 0.01\n",
            "   Score: 0.851\n",
            "   Time Elapsed: 377.7\n",
            "Depth: 6, Lambda 0.25\n",
            "   Score: 0.8509\n",
            "   Time Elapsed: 427.9\n",
            "Depth: 6, Lambda 0.1\n",
            "   Score: 0.851\n",
            "   Time Elapsed: 422.3\n",
            "Depth: 6, Lambda 0.01\n",
            "   Score: 0.8507\n",
            "   Time Elapsed: 423.8\n",
            "Depth: 7, Lambda 0.25\n",
            "   Score: 0.8514\n",
            "   Time Elapsed: 468.8\n",
            "Depth: 7, Lambda 0.1\n",
            "   Score: 0.8506\n",
            "   Time Elapsed: 474.3\n",
            "Depth: 7, Lambda 0.01\n",
            "   Score: 0.8505\n",
            "   Time Elapsed: 478.8\n"
          ]
        }
      ]
    },
    {
      "cell_type": "code",
      "metadata": {
        "id": "AjMkvGH_HtXu"
      },
      "source": [
        "boosting = XGBClassifier(learning_rate = 0.05, n_estimators= 2000, max_depth = 7, reg_lambda = 0.25, tree_method = \"gpu_hist\", random_state = 1530)\n",
        "boosting.fit(xtrain, ytrain)\n",
        "boosting_predictions_proba = pd.DataFrame(boosting.predict_proba(xval))\n",
        "boosting_preds = np.array(boosting_predictions_proba.idxmax(axis = 1))"
      ],
      "id": "AjMkvGH_HtXu",
      "execution_count": null,
      "outputs": []
    },
    {
      "cell_type": "markdown",
      "metadata": {
        "id": "6932d8f4"
      },
      "source": [
        "# SVM w/ Text"
      ],
      "id": "6932d8f4"
    },
    {
      "cell_type": "code",
      "metadata": {
        "id": "58f4f1b0"
      },
      "source": [
        "baseline_svm = LinearSVC(random_state = 2320)\n",
        "cv = RepeatedStratifiedKFold(n_splits=3, n_repeats=1, random_state=2352)\n",
        "n_scores = cross_val_score(baseline_svm, xtrain, ytrain, scoring = \"accuracy\", cv = cv, n_jobs = -1, error_score = \"raise\")"
      ],
      "id": "58f4f1b0",
      "execution_count": null,
      "outputs": []
    },
    {
      "cell_type": "code",
      "metadata": {
        "id": "ddcda91d",
        "outputId": "0ee723fe-9fe5-4e44-a4c8-6a6ea5632c2a"
      },
      "source": [
        "print('Mean Accuracy: %.3f (%.3f)' % (np.mean(n_scores), np.std(n_scores)))"
      ],
      "id": "ddcda91d",
      "execution_count": null,
      "outputs": [
        {
          "name": "stdout",
          "output_type": "stream",
          "text": [
            "Mean Accuracy: 0.817 (0.001)\n"
          ]
        }
      ]
    },
    {
      "cell_type": "code",
      "metadata": {
        "id": "0a721cdb",
        "outputId": "e7aaeb2f-f934-4648-e82a-d7e1edfcb61e"
      },
      "source": [
        "C = [0.0001, 0.0005, 0.001, 0.005, 0.01]\n",
        "for c in C: \n",
        "    svm = LinearSVC(random_state = 2320, penalty = \"l2\", C = c)\n",
        "    svm_cv = RepeatedStratifiedKFold(n_splits = 3, n_repeats = 1, random_state = 2352)\n",
        "    n_scores = cross_val_score(svm, xtrain, ytrain, scoring = \"accuracy\", cv = svm_cv, n_jobs = -1)\n",
        "    print(\"C:\", c)\n",
        "    print('Mean Accuracy: %.3f (%.3f)' % (np.mean(n_scores), np.std(n_scores)))"
      ],
      "id": "0a721cdb",
      "execution_count": null,
      "outputs": [
        {
          "name": "stdout",
          "output_type": "stream",
          "text": [
            "C: 0.0001\n",
            "Mean Accuracy: 0.844 (0.001)\n",
            "C: 0.0005\n",
            "Mean Accuracy: 0.842 (0.001)\n",
            "C: 0.001\n",
            "Mean Accuracy: 0.841 (0.001)\n",
            "C: 0.005\n",
            "Mean Accuracy: 0.839 (0.001)\n"
          ]
        },
        {
          "name": "stderr",
          "output_type": "stream",
          "text": [
            "/Users/jordanfan/opt/anaconda3/envs/vaers/lib/python3.7/site-packages/sklearn/svm/_base.py:986: ConvergenceWarning: Liblinear failed to converge, increase the number of iterations.\n",
            "  \"the number of iterations.\", ConvergenceWarning)\n"
          ]
        },
        {
          "name": "stdout",
          "output_type": "stream",
          "text": [
            "C: 0.01\n",
            "Mean Accuracy: 0.838 (0.001)\n"
          ]
        }
      ]
    },
    {
      "cell_type": "code",
      "metadata": {
        "id": "ab6156a2",
        "outputId": "1b45725d-aeb2-40af-f80f-e23e4f527771"
      },
      "source": [
        "C = np.linspace(0, 0.00005, 3)\n",
        "for c in C: \n",
        "    svm = LinearSVC(random_state = 2320, penalty = \"l2\", C = c)\n",
        "    svm_cv = RepeatedStratifiedKFold(n_splits = 3, n_repeats = 1, random_state = 2352)\n",
        "    n_scores = cross_val_score(svm, xtrain, ytrain, scoring = \"accuracy\", cv = svm_cv, n_jobs = -1)\n",
        "    print(\"C:\", c)\n",
        "    print('Mean Accuracy: %.3f (%.3f)' % (np.mean(n_scores), np.std(n_scores)))"
      ],
      "id": "ab6156a2",
      "execution_count": null,
      "outputs": [
        {
          "name": "stdout",
          "output_type": "stream",
          "text": [
            "C: 0.0\n",
            "Mean Accuracy: nan (nan)\n",
            "C: 2.5e-05\n",
            "Mean Accuracy: 0.844 (0.001)\n",
            "C: 5e-05\n",
            "Mean Accuracy: 0.845 (0.001)\n"
          ]
        }
      ]
    },
    {
      "cell_type": "code",
      "metadata": {
        "id": "671b5f3e"
      },
      "source": [
        "svm = LinearSVC(random_state = 2320, penalty = \"l2\", C = 0.00005)\n",
        "svm.fit(xtrain, ytrain)\n",
        "svm_conf_scores = pd.DataFrame(svm.decision_function(xval))\n",
        "svm_preds = svm.predict(xval)"
      ],
      "id": "671b5f3e",
      "execution_count": null,
      "outputs": []
    },
    {
      "cell_type": "markdown",
      "metadata": {
        "id": "576e8d9f"
      },
      "source": [
        "# KNN w/ Text"
      ],
      "id": "576e8d9f"
    },
    {
      "cell_type": "code",
      "metadata": {
        "id": "0310a8c9"
      },
      "source": [
        "baseline_knn = KNeighborsClassifier()\n",
        "cv = RepeatedStratifiedKFold(n_splits = 3, n_repeats = 1, random_state = 2352)\n",
        "n_scores = cross_val_score(baseline_knn, xtrain, ytrain, scoring = \"accuracy\", cv = cv, n_jobs = -1, error_score = \"raise\")"
      ],
      "id": "0310a8c9",
      "execution_count": null,
      "outputs": []
    },
    {
      "cell_type": "code",
      "metadata": {
        "id": "e6e14dd9",
        "outputId": "873e0933-e26c-494a-e8b3-fd0ab7e54948"
      },
      "source": [
        "print('Mean Accuracy: %.3f (%.3f)' % (np.mean(n_scores), np.std(n_scores)))"
      ],
      "id": "e6e14dd9",
      "execution_count": null,
      "outputs": [
        {
          "name": "stdout",
          "output_type": "stream",
          "text": [
            "Mean Accuracy: 0.801 (0.002)\n"
          ]
        }
      ]
    },
    {
      "cell_type": "code",
      "metadata": {
        "id": "b0d3749a"
      },
      "source": [
        "# standard number of neighbors is sqrt(# Rows)/2\n",
        "knn2 = KNeighborsClassifier(algorithm = \"ball_tree\", n_neighbors = int((xtrain.shape[0])**(1/2)//2))\n",
        "cv = RepeatedStratifiedKFold(n_splits = 3, n_repeats = 1, random_state = 2352)\n",
        "n_scores = cross_val_score(knn2, xtrain, ytrain, scoring = \"accuracy\", cv = cv, n_jobs = -1, error_score = \"raise\")"
      ],
      "id": "b0d3749a",
      "execution_count": null,
      "outputs": []
    },
    {
      "cell_type": "code",
      "metadata": {
        "id": "57a12ae2",
        "outputId": "899abef4-2945-4ebc-c4f6-5924a18cc8bc"
      },
      "source": [
        "print('Mean Accuracy: %.3f (%.3f)' % (np.mean(n_scores), np.std(n_scores)))"
      ],
      "id": "57a12ae2",
      "execution_count": null,
      "outputs": [
        {
          "name": "stdout",
          "output_type": "stream",
          "text": [
            "Mean Accuracy: 0.796 (0.000)\n"
          ]
        }
      ]
    },
    {
      "cell_type": "markdown",
      "metadata": {
        "id": "USlBeBXZx0_F"
      },
      "source": [
        "Result is worse than baseline, just use baseline"
      ],
      "id": "USlBeBXZx0_F"
    },
    {
      "cell_type": "code",
      "metadata": {
        "id": "fff226b1"
      },
      "source": [
        "\n",
        "knn = KNeighborsClassifier()\n",
        "knn.fit(xtrain, ytrain)\n",
        "knn_predictions_proba = pd.DataFrame(knn.predict_proba(xval))\n",
        "knn_preds = np.array(knn_predictions_proba.idxmax(axis = 1))"
      ],
      "id": "fff226b1",
      "execution_count": null,
      "outputs": []
    },
    {
      "cell_type": "markdown",
      "metadata": {
        "id": "5aa457a2"
      },
      "source": [
        "# Neural Network w/ Text"
      ],
      "id": "5aa457a2"
    },
    {
      "cell_type": "code",
      "metadata": {
        "id": "68c136f8"
      },
      "source": [
        "#further split training to use as validation\n",
        "n = xtrain.shape[0]*4//5\n",
        "x_train = xtrain[:n]\n",
        "x_val = xtrain[n:]\n",
        "y_train = to_categorical(ytrain[:n])\n",
        "y_val = to_categorical(ytrain[n:])\n",
        "y_test = to_categorical(yval)"
      ],
      "id": "68c136f8",
      "execution_count": null,
      "outputs": []
    },
    {
      "cell_type": "code",
      "metadata": {
        "scrolled": true,
        "id": "62fd5973",
        "outputId": "b602f0bb-b295-4794-d2de-a4d1ce0febac"
      },
      "source": [
        "baseline_nn = Sequential()\n",
        "baseline_nn.add(Dense(64, activation = \"relu\", input_shape = (x_train.shape[1],)))\n",
        "baseline_nn.add(Dense(32, activation = \"relu\"))\n",
        "baseline_nn.add(Dense(3, activation='softmax'))\n",
        "baseline_nn.compile(optimizer='rmsprop', loss='categorical_crossentropy', metrics=['accuracy']) \n",
        "history = baseline_nn.fit(x_train,\n",
        "          y_train,\n",
        "          epochs=10,\n",
        "          batch_size=64,\n",
        "          validation_data=(x_val, y_val))"
      ],
      "id": "62fd5973",
      "execution_count": null,
      "outputs": [
        {
          "name": "stdout",
          "output_type": "stream",
          "text": [
            "Epoch 1/10\n",
            "861/861 [==============================] - 16s 14ms/step - loss: 0.5780 - accuracy: 0.8023 - val_loss: 0.4671 - val_accuracy: 0.8348\n",
            "Epoch 2/10\n",
            "861/861 [==============================] - 9s 11ms/step - loss: 0.4086 - accuracy: 0.8557 - val_loss: 0.4715 - val_accuracy: 0.8385\n",
            "Epoch 3/10\n",
            "861/861 [==============================] - 11s 13ms/step - loss: 0.3747 - accuracy: 0.8677 - val_loss: 0.4707 - val_accuracy: 0.8377\n",
            "Epoch 4/10\n",
            "861/861 [==============================] - 10s 11ms/step - loss: 0.3510 - accuracy: 0.8783 - val_loss: 0.4813 - val_accuracy: 0.8364\n",
            "Epoch 5/10\n",
            "861/861 [==============================] - 10s 12ms/step - loss: 0.3298 - accuracy: 0.8881 - val_loss: 0.5105 - val_accuracy: 0.8359\n",
            "Epoch 6/10\n",
            "861/861 [==============================] - 10s 11ms/step - loss: 0.3084 - accuracy: 0.8968 - val_loss: 0.5370 - val_accuracy: 0.8276\n",
            "Epoch 7/10\n",
            "861/861 [==============================] - 10s 11ms/step - loss: 0.2928 - accuracy: 0.9031 - val_loss: 0.5871 - val_accuracy: 0.8248\n",
            "Epoch 8/10\n",
            "861/861 [==============================] - 7s 8ms/step - loss: 0.2832 - accuracy: 0.9044 - val_loss: 0.6113 - val_accuracy: 0.8258\n",
            "Epoch 9/10\n",
            "861/861 [==============================] - 7s 8ms/step - loss: 0.2675 - accuracy: 0.9108 - val_loss: 0.6408 - val_accuracy: 0.8179\n",
            "Epoch 10/10\n",
            "861/861 [==============================] - 7s 8ms/step - loss: 0.2527 - accuracy: 0.9175 - val_loss: 0.7004 - val_accuracy: 0.8119\n"
          ]
        }
      ]
    },
    {
      "cell_type": "markdown",
      "metadata": {
        "id": "efa11df0"
      },
      "source": [
        "### Increase number of nodes"
      ],
      "id": "efa11df0"
    },
    {
      "cell_type": "code",
      "metadata": {
        "scrolled": true,
        "id": "a6192d00",
        "outputId": "67d0347a-44f8-440f-f3a2-1f71bc74f69d"
      },
      "source": [
        "nn2 = Sequential()\n",
        "nn2.add(Dense(128, activation = \"relu\", input_shape = (x_train.shape[1],)))\n",
        "nn2.add(Dense(64, activation = \"relu\"))\n",
        "nn2.add(Dense(3, activation='softmax'))\n",
        "nn2.compile(optimizer='rmsprop', loss='categorical_crossentropy', metrics=['accuracy']) \n",
        "history = nn2.fit(x_train,\n",
        "          y_train,\n",
        "          epochs=10,\n",
        "          batch_size=64,\n",
        "          validation_data=(x_val, y_val))"
      ],
      "id": "a6192d00",
      "execution_count": null,
      "outputs": [
        {
          "name": "stdout",
          "output_type": "stream",
          "text": [
            "Epoch 1/10\n",
            "861/861 [==============================] - 13s 11ms/step - loss: 0.5290 - accuracy: 0.8149 - val_loss: 0.4513 - val_accuracy: 0.8408\n",
            "Epoch 2/10\n",
            "861/861 [==============================] - 10s 12ms/step - loss: 0.3996 - accuracy: 0.8599 - val_loss: 0.4583 - val_accuracy: 0.8389\n",
            "Epoch 3/10\n",
            "861/861 [==============================] - 9s 11ms/step - loss: 0.3643 - accuracy: 0.8742 - val_loss: 0.4811 - val_accuracy: 0.8382\n",
            "Epoch 4/10\n",
            "861/861 [==============================] - 9s 10ms/step - loss: 0.3380 - accuracy: 0.8850 - val_loss: 0.5059 - val_accuracy: 0.8343\n",
            "Epoch 5/10\n",
            "861/861 [==============================] - 10s 12ms/step - loss: 0.3070 - accuracy: 0.8978 - val_loss: 0.5442 - val_accuracy: 0.8306\n",
            "Epoch 6/10\n",
            "861/861 [==============================] - 10s 12ms/step - loss: 0.2902 - accuracy: 0.9027 - val_loss: 0.5901 - val_accuracy: 0.8219\n",
            "Epoch 7/10\n",
            "861/861 [==============================] - 9s 11ms/step - loss: 0.2666 - accuracy: 0.9128 - val_loss: 0.6454 - val_accuracy: 0.8280\n",
            "Epoch 8/10\n",
            "861/861 [==============================] - 10s 12ms/step - loss: 0.2519 - accuracy: 0.9161 - val_loss: 0.6908 - val_accuracy: 0.8231\n",
            "Epoch 9/10\n",
            "861/861 [==============================] - 10s 12ms/step - loss: 0.2442 - accuracy: 0.9208 - val_loss: 0.7672 - val_accuracy: 0.8144\n",
            "Epoch 10/10\n",
            "861/861 [==============================] - 11s 12ms/step - loss: 0.2280 - accuracy: 0.9251 - val_loss: 0.8329 - val_accuracy: 0.8138\n"
          ]
        }
      ]
    },
    {
      "cell_type": "markdown",
      "metadata": {
        "id": "7d0a8a0d"
      },
      "source": [
        "### Add additional layer"
      ],
      "id": "7d0a8a0d"
    },
    {
      "cell_type": "code",
      "metadata": {
        "id": "89c87ab7",
        "outputId": "6e78c76a-6fe9-4bb7-df92-d250ce057885"
      },
      "source": [
        "nn3 = Sequential()\n",
        "nn3.add(Dense(128, activation = \"relu\", input_shape = (x_train.shape[1],)))\n",
        "nn3.add(Dense(64, activation = \"relu\"))\n",
        "nn3.add(Dense(32, activation = \"relu\"))\n",
        "nn3.add(Dense(3, activation='softmax'))\n",
        "nn3.compile(optimizer='rmsprop', loss='categorical_crossentropy', metrics=['accuracy']) \n",
        "history = nn3.fit(x_train,\n",
        "          y_train,\n",
        "          epochs=10,\n",
        "          batch_size=64,\n",
        "          validation_data=(x_val, y_val))"
      ],
      "id": "89c87ab7",
      "execution_count": null,
      "outputs": [
        {
          "name": "stdout",
          "output_type": "stream",
          "text": [
            "Epoch 1/10\n",
            "861/861 [==============================] - 14s 14ms/step - loss: 0.5058 - accuracy: 0.8242 - val_loss: 0.4508 - val_accuracy: 0.8388\n",
            "Epoch 2/10\n",
            "861/861 [==============================] - 10s 12ms/step - loss: 0.4175 - accuracy: 0.8528 - val_loss: 0.4583 - val_accuracy: 0.8369\n",
            "Epoch 3/10\n",
            "861/861 [==============================] - 10s 12ms/step - loss: 0.3831 - accuracy: 0.8671 - val_loss: 0.4588 - val_accuracy: 0.8411\n",
            "Epoch 4/10\n",
            "861/861 [==============================] - 11s 12ms/step - loss: 0.3589 - accuracy: 0.8741 - val_loss: 0.4916 - val_accuracy: 0.8425\n",
            "Epoch 5/10\n",
            "861/861 [==============================] - 10s 12ms/step - loss: 0.3388 - accuracy: 0.8834 - val_loss: 0.5069 - val_accuracy: 0.8359\n",
            "Epoch 6/10\n",
            "861/861 [==============================] - 9s 11ms/step - loss: 0.3151 - accuracy: 0.8930 - val_loss: 0.5475 - val_accuracy: 0.8367\n",
            "Epoch 7/10\n",
            "861/861 [==============================] - 10s 12ms/step - loss: 0.2917 - accuracy: 0.9024 - val_loss: 0.5732 - val_accuracy: 0.8327\n",
            "Epoch 8/10\n",
            "861/861 [==============================] - 11s 12ms/step - loss: 0.2741 - accuracy: 0.9090 - val_loss: 0.6191 - val_accuracy: 0.8270\n",
            "Epoch 9/10\n",
            "861/861 [==============================] - 10s 12ms/step - loss: 0.2613 - accuracy: 0.9134 - val_loss: 0.6268 - val_accuracy: 0.8196\n",
            "Epoch 10/10\n",
            "861/861 [==============================] - 10s 12ms/step - loss: 0.2491 - accuracy: 0.9182 - val_loss: 0.7526 - val_accuracy: 0.8292\n"
          ]
        }
      ]
    },
    {
      "cell_type": "markdown",
      "metadata": {
        "id": "c219df90"
      },
      "source": [
        "### Add Dropout"
      ],
      "id": "c219df90"
    },
    {
      "cell_type": "code",
      "metadata": {
        "id": "5a167285",
        "outputId": "0b01332c-671d-4df1-9e24-a183da0a1ebc"
      },
      "source": [
        "nn4 = Sequential()\n",
        "nn4.add(Dense(128, activation = \"relu\", input_shape = (x_train.shape[1],)))\n",
        "nn4.add(Dropout(0.2))\n",
        "nn4.add(Dense(64, activation = \"relu\"))\n",
        "nn4.add(Dropout(0.2))\n",
        "nn4.add(Dense(32, activation = \"relu\"))\n",
        "nn4.add(Dense(3, activation='softmax'))\n",
        "nn4.compile(optimizer='rmsprop', loss='categorical_crossentropy', metrics=['accuracy']) \n",
        "history = nn4.fit(x_train,\n",
        "          y_train,\n",
        "          epochs=10,\n",
        "          batch_size=64,\n",
        "          validation_data=(x_val, y_val))"
      ],
      "id": "5a167285",
      "execution_count": null,
      "outputs": [
        {
          "name": "stdout",
          "output_type": "stream",
          "text": [
            "Epoch 1/10\n",
            "861/861 [==============================] - 15s 11ms/step - loss: 0.5575 - accuracy: 0.8051 - val_loss: 0.4477 - val_accuracy: 0.8388\n",
            "Epoch 2/10\n",
            "861/861 [==============================] - 9s 10ms/step - loss: 0.4541 - accuracy: 0.8429 - val_loss: 0.4407 - val_accuracy: 0.8417\n",
            "Epoch 3/10\n",
            "861/861 [==============================] - 9s 11ms/step - loss: 0.4311 - accuracy: 0.8508 - val_loss: 0.4470 - val_accuracy: 0.8428\n",
            "Epoch 4/10\n",
            "861/861 [==============================] - 9s 11ms/step - loss: 0.4179 - accuracy: 0.8571 - val_loss: 0.4439 - val_accuracy: 0.8403\n",
            "Epoch 5/10\n",
            "861/861 [==============================] - 10s 12ms/step - loss: 0.4085 - accuracy: 0.8574 - val_loss: 0.4413 - val_accuracy: 0.8461\n",
            "Epoch 6/10\n",
            "861/861 [==============================] - 9s 11ms/step - loss: 0.4062 - accuracy: 0.8597 - val_loss: 0.4466 - val_accuracy: 0.8441\n",
            "Epoch 7/10\n",
            "861/861 [==============================] - 10s 11ms/step - loss: 0.3950 - accuracy: 0.8663 - val_loss: 0.4457 - val_accuracy: 0.8430\n",
            "Epoch 8/10\n",
            "861/861 [==============================] - 10s 11ms/step - loss: 0.3944 - accuracy: 0.8645 - val_loss: 0.4458 - val_accuracy: 0.8418\n",
            "Epoch 9/10\n",
            "861/861 [==============================] - 10s 12ms/step - loss: 0.3892 - accuracy: 0.8674 - val_loss: 0.4457 - val_accuracy: 0.8435\n",
            "Epoch 10/10\n",
            "861/861 [==============================] - 10s 12ms/step - loss: 0.3828 - accuracy: 0.8687 - val_loss: 0.4506 - val_accuracy: 0.8411\n"
          ]
        }
      ]
    },
    {
      "cell_type": "code",
      "metadata": {
        "id": "6f2ff303",
        "outputId": "8626385d-3f42-4971-a0d6-1823d383ec00"
      },
      "source": [
        "nn = Sequential()\n",
        "nn.add(Dense(256, activation = \"relu\", input_shape = (x_train.shape[1],))) \n",
        "nn.add(Dropout(0.5))\n",
        "nn.add(Dense(128, activation='relu'))\n",
        "nn.add(Dropout(0.5))\n",
        "nn.add(Dense(64, activation='relu'))\n",
        "nn.add(Dense(3, activation='softmax'))\n",
        "nn.compile(optimizer='rmsprop', loss='categorical_crossentropy', metrics=['accuracy']) \n",
        "history = nn.fit(x_train,\n",
        "          y_train,\n",
        "          epochs=10,\n",
        "          batch_size=128,\n",
        "          validation_data=(x_val, y_val))"
      ],
      "id": "6f2ff303",
      "execution_count": null,
      "outputs": [
        {
          "name": "stdout",
          "output_type": "stream",
          "text": [
            "Epoch 1/10\n",
            "431/431 [==============================] - 15s 27ms/step - loss: 0.6404 - accuracy: 0.7843 - val_loss: 0.4619 - val_accuracy: 0.8343\n",
            "Epoch 2/10\n",
            "431/431 [==============================] - 10s 24ms/step - loss: 0.4756 - accuracy: 0.8383 - val_loss: 0.4559 - val_accuracy: 0.8351\n",
            "Epoch 3/10\n",
            "431/431 [==============================] - 11s 25ms/step - loss: 0.4599 - accuracy: 0.8413 - val_loss: 0.4495 - val_accuracy: 0.8383\n",
            "Epoch 4/10\n",
            "431/431 [==============================] - 12s 27ms/step - loss: 0.4460 - accuracy: 0.8487 - val_loss: 0.4437 - val_accuracy: 0.8395\n",
            "Epoch 5/10\n",
            "431/431 [==============================] - 11s 25ms/step - loss: 0.4439 - accuracy: 0.8465 - val_loss: 0.4524 - val_accuracy: 0.8334\n",
            "Epoch 6/10\n",
            "431/431 [==============================] - 11s 25ms/step - loss: 0.4264 - accuracy: 0.8534 - val_loss: 0.4502 - val_accuracy: 0.8319\n",
            "Epoch 7/10\n",
            "431/431 [==============================] - 11s 25ms/step - loss: 0.4255 - accuracy: 0.8537 - val_loss: 0.4432 - val_accuracy: 0.8369\n",
            "Epoch 8/10\n",
            "431/431 [==============================] - 11s 26ms/step - loss: 0.4219 - accuracy: 0.8523 - val_loss: 0.4419 - val_accuracy: 0.8407\n",
            "Epoch 9/10\n",
            "431/431 [==============================] - 12s 29ms/step - loss: 0.4160 - accuracy: 0.8569 - val_loss: 0.4451 - val_accuracy: 0.8370\n",
            "Epoch 10/10\n",
            "431/431 [==============================] - 11s 26ms/step - loss: 0.4159 - accuracy: 0.8564 - val_loss: 0.4472 - val_accuracy: 0.8425\n"
          ]
        }
      ]
    },
    {
      "cell_type": "code",
      "metadata": {
        "id": "4fbc82a0"
      },
      "source": [
        "nn_predictions_proba = pd.DataFrame(nn.predict(xval))\n",
        "nn_preds = np.array(nn_predictions_proba.idxmax(axis = 1))"
      ],
      "id": "4fbc82a0",
      "execution_count": null,
      "outputs": []
    },
    {
      "cell_type": "markdown",
      "metadata": {
        "id": "ac093d5b"
      },
      "source": [
        "# Compare Results"
      ],
      "id": "ac093d5b"
    },
    {
      "cell_type": "code",
      "metadata": {
        "id": "5d21a694",
        "outputId": "0011312a-83a6-4695-970c-6271a8068cae"
      },
      "source": [
        "print(classification_report(yval, lr_preds, digits = 3))"
      ],
      "id": "5d21a694",
      "execution_count": null,
      "outputs": [
        {
          "name": "stdout",
          "output_type": "stream",
          "text": [
            "              precision    recall  f1-score   support\n",
            "\n",
            "           0      0.857     0.980     0.915     13702\n",
            "           1      0.760     0.372     0.499      3006\n",
            "           2      0.671     0.104     0.180       509\n",
            "\n",
            "    accuracy                          0.848     17217\n",
            "   macro avg      0.763     0.485     0.531     17217\n",
            "weighted avg      0.835     0.848     0.821     17217\n",
            "\n"
          ]
        }
      ]
    },
    {
      "cell_type": "code",
      "metadata": {
        "id": "792f9d4b",
        "outputId": "366196b1-ff05-4100-8273-044a580878ee"
      },
      "source": [
        "print(classification_report(yval, boosting_preds, digits = 3))"
      ],
      "id": "792f9d4b",
      "execution_count": null,
      "outputs": [
        {
          "name": "stdout",
          "output_type": "stream",
          "text": [
            "              precision    recall  f1-score   support\n",
            "\n",
            "           0      0.872     0.974     0.920     13702\n",
            "           1      0.746     0.402     0.522      3006\n",
            "           2      0.580     0.328     0.419       509\n",
            "\n",
            "    accuracy                          0.855     17217\n",
            "   macro avg      0.732     0.568     0.620     17217\n",
            "weighted avg      0.841     0.855     0.836     17217\n",
            "\n"
          ]
        }
      ]
    },
    {
      "cell_type": "code",
      "metadata": {
        "id": "8de26cdb",
        "outputId": "62b5ab40-e3b5-4c00-a3a2-3c5e60187e29"
      },
      "source": [
        "print(classification_report(yval, svm_preds, digits = 3))"
      ],
      "id": "8de26cdb",
      "execution_count": null,
      "outputs": [
        {
          "name": "stdout",
          "output_type": "stream",
          "text": [
            "              precision    recall  f1-score   support\n",
            "\n",
            "           0      0.865     0.972     0.916     13702\n",
            "           1      0.728     0.412     0.526      3006\n",
            "           2      0.590     0.136     0.220       509\n",
            "\n",
            "    accuracy                          0.850     17217\n",
            "   macro avg      0.728     0.506     0.554     17217\n",
            "weighted avg      0.833     0.850     0.827     17217\n",
            "\n"
          ]
        }
      ]
    },
    {
      "cell_type": "code",
      "metadata": {
        "id": "e2da1c83",
        "outputId": "a10a4560-8a65-44c9-8269-7804e9a8a8e2"
      },
      "source": [
        "print(classification_report(yval, knn_preds, digits = 3))"
      ],
      "id": "e2da1c83",
      "execution_count": null,
      "outputs": [
        {
          "name": "stdout",
          "output_type": "stream",
          "text": [
            "              precision    recall  f1-score   support\n",
            "\n",
            "           0      0.822     0.970     0.890     13702\n",
            "           1      0.520     0.166     0.251      3006\n",
            "           2      0.541     0.104     0.175       509\n",
            "\n",
            "    accuracy                          0.804     17217\n",
            "   macro avg      0.628     0.413     0.439     17217\n",
            "weighted avg      0.761     0.804     0.757     17217\n",
            "\n"
          ]
        }
      ]
    },
    {
      "cell_type": "code",
      "metadata": {
        "id": "b68ccacd",
        "outputId": "6a259ff0-d115-49b1-a585-252794159544"
      },
      "source": [
        "print(classification_report(yval, nn_preds, digits = 3))"
      ],
      "id": "b68ccacd",
      "execution_count": null,
      "outputs": [
        {
          "name": "stdout",
          "output_type": "stream",
          "text": [
            "              precision    recall  f1-score   support\n",
            "\n",
            "           0      0.863     0.972     0.914     13702\n",
            "           1      0.744     0.382     0.505      3006\n",
            "           2      0.466     0.230     0.308       509\n",
            "\n",
            "    accuracy                          0.847     17217\n",
            "   macro avg      0.691     0.528     0.576     17217\n",
            "weighted avg      0.831     0.847     0.825     17217\n",
            "\n"
          ]
        }
      ]
    },
    {
      "cell_type": "markdown",
      "metadata": {
        "id": "fea1b93a"
      },
      "source": [
        "logistic regression, boosting, and SVM are top models. Use the models to blend"
      ],
      "id": "fea1b93a"
    },
    {
      "cell_type": "markdown",
      "metadata": {
        "id": "7dc902e4"
      },
      "source": [
        "## Blend Models"
      ],
      "id": "7dc902e4"
    },
    {
      "cell_type": "code",
      "metadata": {
        "id": "f7ae07fe"
      },
      "source": [
        "# combine prediction probabilities of each model for training and test\n",
        "blended_x = np.array(pd.concat([lr_predictions_proba, boosting_predictions_proba, svm_conf_scores], axis = 1))\n",
        "lr_test_proba = pd.DataFrame(lr.predict_proba(xtest))\n",
        "boosting_test_proba = pd.DataFrame(boosting.predict_proba(xtest))\n",
        "svm_test_conf_score = pd.DataFrame(svm.decision_function(xtest))\n",
        "blended_x_test = np.array(pd.concat([lr_test_proba, boosting_test_proba, svm_test_conf_score], axis = 1))\n"
      ],
      "id": "f7ae07fe",
      "execution_count": null,
      "outputs": []
    },
    {
      "cell_type": "code",
      "metadata": {
        "id": "de133c9f",
        "colab": {
          "base_uri": "https://localhost:8080/"
        },
        "outputId": "94a054ff-d6ff-4911-8c7c-a8a8f188e04b"
      },
      "source": [
        "\n",
        "blender = LogisticRegression(multi_class=\"multinomial\")\n",
        "blender.fit(blended_x, yval)\n"
      ],
      "id": "de133c9f",
      "execution_count": null,
      "outputs": [
        {
          "output_type": "execute_result",
          "data": {
            "text/plain": [
              "LogisticRegression(C=1.0, class_weight=None, dual=False, fit_intercept=True,\n",
              "                   intercept_scaling=1, l1_ratio=None, max_iter=100,\n",
              "                   multi_class='multinomial', n_jobs=None, penalty='l2',\n",
              "                   random_state=None, solver='lbfgs', tol=0.0001, verbose=0,\n",
              "                   warm_start=False)"
            ]
          },
          "metadata": {},
          "execution_count": 21
        }
      ]
    },
    {
      "cell_type": "code",
      "metadata": {
        "colab": {
          "base_uri": "https://localhost:8080/"
        },
        "id": "t3c-FhRM17Bb",
        "outputId": "8d1b2229-4a93-4d69-8ec1-1b4f3cf96aa9"
      },
      "source": [
        "print(classification_report(ytest, blender.predict(blended_x_test), digits = 3))"
      ],
      "id": "t3c-FhRM17Bb",
      "execution_count": null,
      "outputs": [
        {
          "output_type": "stream",
          "name": "stdout",
          "text": [
            "              precision    recall  f1-score   support\n",
            "\n",
            "           0      0.874     0.973     0.921     17158\n",
            "           1      0.728     0.413     0.527      3658\n",
            "           2      0.583     0.295     0.392       705\n",
            "\n",
            "    accuracy                          0.856     21521\n",
            "   macro avg      0.728     0.560     0.613     21521\n",
            "weighted avg      0.840     0.856     0.837     21521\n",
            "\n"
          ]
        }
      ]
    },
    {
      "cell_type": "markdown",
      "metadata": {
        "id": "bb12d630"
      },
      "source": [
        "test predictions are pretty low with improvement of <6% from baseline"
      ],
      "id": "bb12d630"
    },
    {
      "cell_type": "code",
      "metadata": {
        "id": "Wth8mh4R108L"
      },
      "source": [
        "with open(\"/content/drive/My Drive/Colab Notebooks/blended_test_preds.pkl\", \"wb\") as handle:\n",
        "  pickle.dump(blender.predict(blended_x_test), handle)"
      ],
      "id": "Wth8mh4R108L",
      "execution_count": null,
      "outputs": []
    },
    {
      "cell_type": "markdown",
      "metadata": {
        "id": "a338e15b"
      },
      "source": [
        "# Important Words"
      ],
      "id": "a338e15b"
    },
    {
      "cell_type": "code",
      "metadata": {
        "id": "37d65ec6"
      },
      "source": [
        "# Combine only text features into a matrix\n",
        "Xtr = hstack((tv_lab_data_train, tv_other_meds_train, tv_cur_ill_train, tv_history_train, tv_vax_train, tv_allergies_train))\n",
        "\n",
        "# Combine all text names into a list to lookup by index\n",
        "tfidf_features = [\"lab_data_\" + i for i in tv_lab_data.get_feature_names()] \\\n",
        "+ [\"other_meds_\" + i for i in tv_other_meds.get_feature_names()] \\\n",
        "+ [\"cur_ill_\" + i for i in tv_cur_ill.get_feature_names()] \\\n",
        "+ [\"history_\" + i for i in tv_history.get_feature_names()] \\\n",
        "+ [\"vax_\" + i for i in tv_vax.get_feature_names()] \\\n",
        "+ [\"allergies_\" + i for i in tv_allergies.get_feature_names()] \n",
        "\n",
        "\n",
        "def top_tfidf_feats(row, features, top_n=25):\n",
        "    ''' Get top n tfidf values in row and return them with their corresponding feature names.'''\n",
        "    topn_ids = np.argsort(row)[::-1][:top_n]\n",
        "    top_feats = [(tfidf_features[i], row[i]) for i in topn_ids]\n",
        "    df = pd.DataFrame(top_feats)\n",
        "    df.columns = ['feature', 'tfidf']\n",
        "    return df\n",
        "\n",
        "def top_feats_in_doc(Xtr, features, row_id, top_n=25):\n",
        "    ''' Top tfidf features in specific document (matrix row) '''\n",
        "    row = np.squeeze(Xtr.toarray()[row_id])\n",
        "    return top_tfidf_feats(row, features, top_n)\n",
        "\n",
        "def top_mean_feats(Xtr, features, grp_ids=None, min_tfidf=0.1, top_n=25):\n",
        "    ''' Return the top n features that on average are most important amongst documents in rows\n",
        "        indentified by indices in grp_ids. '''\n",
        "    if grp_ids is not None:\n",
        "        D = Xtr.toarray()[grp_ids]\n",
        "    else:\n",
        "        D = Xtr.toarray()\n",
        "\n",
        "    D[D < min_tfidf] = 0\n",
        "    tfidf_means = np.mean(D, axis=0)\n",
        "    return top_tfidf_feats(tfidf_means, features, top_n)\n",
        "\n",
        "def top_feats_by_class(Xtr, y, features, min_tfidf=0.1, top_n=25):\n",
        "    ''' Return a list of dfs, where each df holds top_n features and their mean tfidf value\n",
        "        calculated across documents with the same class label. '''\n",
        "    dfs = []\n",
        "    labels = np.unique(y)\n",
        "    for label in labels:\n",
        "        ids = np.where(y==label)[0]\n",
        "        feats_df = top_mean_feats(Xtr, features, ids, min_tfidf=min_tfidf, top_n=top_n)\n",
        "        feats_df.label = label\n",
        "        dfs.append(feats_df)\n",
        "    return dfs"
      ],
      "id": "37d65ec6",
      "execution_count": null,
      "outputs": []
    },
    {
      "cell_type": "code",
      "metadata": {
        "scrolled": true,
        "id": "0208cfe7",
        "outputId": "258f1e9f-bcbf-49d2-8a01-b57e5c2a8a3e"
      },
      "source": [
        "top_feats_in_doc(Xtr, tfidf_features, 1, top_n = 10)"
      ],
      "id": "0208cfe7",
      "execution_count": null,
      "outputs": [
        {
          "data": {
            "text/html": [
              "<div>\n",
              "<style scoped>\n",
              "    .dataframe tbody tr th:only-of-type {\n",
              "        vertical-align: middle;\n",
              "    }\n",
              "\n",
              "    .dataframe tbody tr th {\n",
              "        vertical-align: top;\n",
              "    }\n",
              "\n",
              "    .dataframe thead th {\n",
              "        text-align: right;\n",
              "    }\n",
              "</style>\n",
              "<table border=\"1\" class=\"dataframe\">\n",
              "  <thead>\n",
              "    <tr style=\"text-align: right;\">\n",
              "      <th></th>\n",
              "      <th>feature</th>\n",
              "      <th>tfidf</th>\n",
              "    </tr>\n",
              "  </thead>\n",
              "  <tbody>\n",
              "    <tr>\n",
              "      <th>0</th>\n",
              "      <td>allergies_nkda</td>\n",
              "      <td>1.000000</td>\n",
              "    </tr>\n",
              "    <tr>\n",
              "      <th>1</th>\n",
              "      <td>cur_ill_nan</td>\n",
              "      <td>1.000000</td>\n",
              "    </tr>\n",
              "    <tr>\n",
              "      <th>2</th>\n",
              "      <td>vax_nan</td>\n",
              "      <td>1.000000</td>\n",
              "    </tr>\n",
              "    <tr>\n",
              "      <th>3</th>\n",
              "      <td>history_statu</td>\n",
              "      <td>0.615232</td>\n",
              "    </tr>\n",
              "    <tr>\n",
              "      <th>4</th>\n",
              "      <td>history_post</td>\n",
              "      <td>0.537443</td>\n",
              "    </tr>\n",
              "    <tr>\n",
              "      <th>5</th>\n",
              "      <td>lab_data_mild</td>\n",
              "      <td>0.314362</td>\n",
              "    </tr>\n",
              "    <tr>\n",
              "      <th>6</th>\n",
              "      <td>other_meds_mouth daili</td>\n",
              "      <td>0.308630</td>\n",
              "    </tr>\n",
              "    <tr>\n",
              "      <th>7</th>\n",
              "      <td>lab_data_three</td>\n",
              "      <td>0.306009</td>\n",
              "    </tr>\n",
              "    <tr>\n",
              "      <th>8</th>\n",
              "      <td>other_meds_take</td>\n",
              "      <td>0.305228</td>\n",
              "    </tr>\n",
              "    <tr>\n",
              "      <th>9</th>\n",
              "      <td>other_meds_tablet take</td>\n",
              "      <td>0.301120</td>\n",
              "    </tr>\n",
              "  </tbody>\n",
              "</table>\n",
              "</div>"
            ],
            "text/plain": [
              "                  feature     tfidf\n",
              "0          allergies_nkda  1.000000\n",
              "1             cur_ill_nan  1.000000\n",
              "2                 vax_nan  1.000000\n",
              "3           history_statu  0.615232\n",
              "4            history_post  0.537443\n",
              "5           lab_data_mild  0.314362\n",
              "6  other_meds_mouth daili  0.308630\n",
              "7          lab_data_three  0.306009\n",
              "8         other_meds_take  0.305228\n",
              "9  other_meds_tablet take  0.301120"
            ]
          },
          "execution_count": 80,
          "metadata": {},
          "output_type": "execute_result"
        }
      ]
    },
    {
      "cell_type": "code",
      "metadata": {
        "scrolled": true,
        "id": "a91d1971",
        "outputId": "2c7eaf8c-bdd9-46f2-c597-7d9b522c638a"
      },
      "source": [
        "top_mean_feats(Xtr, tfidf_features)"
      ],
      "id": "a91d1971",
      "execution_count": null,
      "outputs": [
        {
          "data": {
            "text/html": [
              "<div>\n",
              "<style scoped>\n",
              "    .dataframe tbody tr th:only-of-type {\n",
              "        vertical-align: middle;\n",
              "    }\n",
              "\n",
              "    .dataframe tbody tr th {\n",
              "        vertical-align: top;\n",
              "    }\n",
              "\n",
              "    .dataframe thead th {\n",
              "        text-align: right;\n",
              "    }\n",
              "</style>\n",
              "<table border=\"1\" class=\"dataframe\">\n",
              "  <thead>\n",
              "    <tr style=\"text-align: right;\">\n",
              "      <th></th>\n",
              "      <th>feature</th>\n",
              "      <th>tfidf</th>\n",
              "    </tr>\n",
              "  </thead>\n",
              "  <tbody>\n",
              "    <tr>\n",
              "      <th>0</th>\n",
              "      <td>vax_nan</td>\n",
              "      <td>0.951979</td>\n",
              "    </tr>\n",
              "    <tr>\n",
              "      <th>1</th>\n",
              "      <td>lab_data_nan</td>\n",
              "      <td>0.583713</td>\n",
              "    </tr>\n",
              "    <tr>\n",
              "      <th>2</th>\n",
              "      <td>cur_ill_nan</td>\n",
              "      <td>0.494598</td>\n",
              "    </tr>\n",
              "    <tr>\n",
              "      <th>3</th>\n",
              "      <td>allergies_nan</td>\n",
              "      <td>0.412424</td>\n",
              "    </tr>\n",
              "    <tr>\n",
              "      <th>4</th>\n",
              "      <td>other_meds_nan</td>\n",
              "      <td>0.377138</td>\n",
              "    </tr>\n",
              "    <tr>\n",
              "      <th>5</th>\n",
              "      <td>cur_ill_none</td>\n",
              "      <td>0.343041</td>\n",
              "    </tr>\n",
              "    <tr>\n",
              "      <th>6</th>\n",
              "      <td>history_nan</td>\n",
              "      <td>0.296678</td>\n",
              "    </tr>\n",
              "    <tr>\n",
              "      <th>7</th>\n",
              "      <td>allergies_none</td>\n",
              "      <td>0.189491</td>\n",
              "    </tr>\n",
              "    <tr>\n",
              "      <th>8</th>\n",
              "      <td>history_none</td>\n",
              "      <td>0.180278</td>\n",
              "    </tr>\n",
              "    <tr>\n",
              "      <th>9</th>\n",
              "      <td>lab_data_none</td>\n",
              "      <td>0.176411</td>\n",
              "    </tr>\n",
              "    <tr>\n",
              "      <th>10</th>\n",
              "      <td>other_meds_none</td>\n",
              "      <td>0.101422</td>\n",
              "    </tr>\n",
              "    <tr>\n",
              "      <th>11</th>\n",
              "      <td>other_meds_vitamin</td>\n",
              "      <td>0.035413</td>\n",
              "    </tr>\n",
              "    <tr>\n",
              "      <th>12</th>\n",
              "      <td>other_meds_mg</td>\n",
              "      <td>0.034232</td>\n",
              "    </tr>\n",
              "    <tr>\n",
              "      <th>13</th>\n",
              "      <td>allergies_penicillin</td>\n",
              "      <td>0.033750</td>\n",
              "    </tr>\n",
              "    <tr>\n",
              "      <th>14</th>\n",
              "      <td>history_unknown</td>\n",
              "      <td>0.032312</td>\n",
              "    </tr>\n",
              "    <tr>\n",
              "      <th>15</th>\n",
              "      <td>history_asthma</td>\n",
              "      <td>0.029676</td>\n",
              "    </tr>\n",
              "    <tr>\n",
              "      <th>16</th>\n",
              "      <td>allergies_sulfa</td>\n",
              "      <td>0.028423</td>\n",
              "    </tr>\n",
              "    <tr>\n",
              "      <th>17</th>\n",
              "      <td>lab_data_test</td>\n",
              "      <td>0.024594</td>\n",
              "    </tr>\n",
              "    <tr>\n",
              "      <th>18</th>\n",
              "      <td>history_medic</td>\n",
              "      <td>0.023210</td>\n",
              "    </tr>\n",
              "    <tr>\n",
              "      <th>19</th>\n",
              "      <td>other_meds_unknown</td>\n",
              "      <td>0.023136</td>\n",
              "    </tr>\n",
              "    <tr>\n",
              "      <th>20</th>\n",
              "      <td>allergies_nka</td>\n",
              "      <td>0.020923</td>\n",
              "    </tr>\n",
              "    <tr>\n",
              "      <th>21</th>\n",
              "      <td>history_comment</td>\n",
              "      <td>0.019942</td>\n",
              "    </tr>\n",
              "    <tr>\n",
              "      <th>22</th>\n",
              "      <td>allergies_nkda</td>\n",
              "      <td>0.019336</td>\n",
              "    </tr>\n",
              "    <tr>\n",
              "      <th>23</th>\n",
              "      <td>history_hypertens</td>\n",
              "      <td>0.019130</td>\n",
              "    </tr>\n",
              "    <tr>\n",
              "      <th>24</th>\n",
              "      <td>history_comment unknown</td>\n",
              "      <td>0.018876</td>\n",
              "    </tr>\n",
              "  </tbody>\n",
              "</table>\n",
              "</div>"
            ],
            "text/plain": [
              "                    feature     tfidf\n",
              "0                   vax_nan  0.951979\n",
              "1              lab_data_nan  0.583713\n",
              "2               cur_ill_nan  0.494598\n",
              "3             allergies_nan  0.412424\n",
              "4            other_meds_nan  0.377138\n",
              "5              cur_ill_none  0.343041\n",
              "6               history_nan  0.296678\n",
              "7            allergies_none  0.189491\n",
              "8              history_none  0.180278\n",
              "9             lab_data_none  0.176411\n",
              "10          other_meds_none  0.101422\n",
              "11       other_meds_vitamin  0.035413\n",
              "12            other_meds_mg  0.034232\n",
              "13     allergies_penicillin  0.033750\n",
              "14          history_unknown  0.032312\n",
              "15           history_asthma  0.029676\n",
              "16          allergies_sulfa  0.028423\n",
              "17            lab_data_test  0.024594\n",
              "18            history_medic  0.023210\n",
              "19       other_meds_unknown  0.023136\n",
              "20            allergies_nka  0.020923\n",
              "21          history_comment  0.019942\n",
              "22           allergies_nkda  0.019336\n",
              "23        history_hypertens  0.019130\n",
              "24  history_comment unknown  0.018876"
            ]
          },
          "execution_count": 81,
          "metadata": {},
          "output_type": "execute_result"
        }
      ]
    },
    {
      "cell_type": "code",
      "metadata": {
        "id": "dae3fca3"
      },
      "source": [
        "def plot_tfidf_classfeats_h(dfs):\n",
        "    ''' Plot the data frames returned by the function plot_tfidf_classfeats(). '''\n",
        "    fig = plt.figure(figsize=(12, 9), facecolor=\"w\")\n",
        "    x = np.arange(len(dfs[0]))\n",
        "    for i, df in enumerate(dfs):\n",
        "        ax = fig.add_subplot(1, len(dfs), i+1)\n",
        "        ax.spines[\"top\"].set_visible(False)\n",
        "        ax.spines[\"right\"].set_visible(False)\n",
        "        ax.set_frame_on(False)\n",
        "        ax.get_xaxis().tick_bottom()\n",
        "        ax.get_yaxis().tick_left()\n",
        "        ax.set_xlabel(\"Mean Tf-Idf Score\", labelpad=16, fontsize=14)\n",
        "        ax.set_title(\"label = \" + str(df.label), fontsize=16)\n",
        "        ax.ticklabel_format(axis='x', style='sci', scilimits=(-2,2))\n",
        "        ax.barh(x, df.tfidf, align='center', color='#3F5D7D')\n",
        "        ax.set_yticks(x)\n",
        "        ax.set_ylim([-1, x[-1]+1])\n",
        "        yticks = ax.set_yticklabels(df.feature)\n",
        "        plt.subplots_adjust(bottom=0.09, right=0.97, left=0.15, top=0.95, wspace=0.52)\n",
        "    plt.show()"
      ],
      "id": "dae3fca3",
      "execution_count": null,
      "outputs": []
    },
    {
      "cell_type": "code",
      "metadata": {
        "id": "3d887f17",
        "outputId": "499e8d3f-8571-4379-ba3b-cedf1791c299"
      },
      "source": [
        "plot_tfidf_classfeats_h(top_feats_by_class(Xtr, ytrain, features))"
      ],
      "id": "3d887f17",
      "execution_count": null,
      "outputs": [
        {
          "data": {
            "image/png": "[encoded data removed]",
            "text/plain": [
              "<Figure size 864x648 with 3 Axes>"
            ]
          },
          "metadata": {},
          "output_type": "display_data"
        }
      ]
    },
    {
      "cell_type": "markdown",
      "metadata": {
        "id": "R3-P2z8_z6Ry"
      },
      "source": [
        "### Important features from Boosting"
      ],
      "id": "R3-P2z8_z6Ry"
    },
    {
      "cell_type": "code",
      "metadata": {
        "id": "51f9e1b5",
        "colab": {
          "base_uri": "https://localhost:8080/",
          "height": 295
        },
        "outputId": "d4288cd2-d346-4d97-d244-e0d6084e03f6"
      },
      "source": [
        "plot_importance(boosting, max_num_features = 15)\n",
        "pyplot.show()"
      ],
      "id": "51f9e1b5",
      "execution_count": null,
      "outputs": [
        {
          "output_type": "display_data",
          "data": {
            "image/png": "[encoded data removed]",
            "text/plain": [
              "<Figure size 432x288 with 1 Axes>"
            ]
          },
          "metadata": {
            "needs_background": "light"
          }
        }
      ]
    },
    {
      "cell_type": "code",
      "metadata": {
        "colab": {
          "base_uri": "https://localhost:8080/"
        },
        "id": "Ofs0ePA8ii-S",
        "outputId": "73595f62-04f8-4271-d627-cb4193189e02"
      },
      "source": [
        "feature_names = list(pd.get_dummies(X_train[features[:5]], drop_first = True).columns) \\\n",
        "+ [\"lab_data_\" + i for i in tv_lab_data.get_feature_names()] \\\n",
        "+ [\"other_meds_\" + i for i in tv_other_meds.get_feature_names()] \\\n",
        "+ [\"cur_ill_\" + i for i in tv_cur_ill.get_feature_names()] \\\n",
        "+ [\"history_\" + i for i in tv_history.get_feature_names()] \\\n",
        "+ [\"vax_\" + i for i in tv_vax.get_feature_names()] \\\n",
        "+ [\"allergies_\" + i for i in tv_allergies.get_feature_names()] \n",
        "[feature_names[i] for i in [0, 517, 1, 58, 1919, 2, 4, 1914, 1376, 1743, 2781, 5, 810, 1461, 556]]"
      ],
      "id": "Ofs0ePA8ii-S",
      "execution_count": null,
      "outputs": [
        {
          "output_type": "execute_result",
          "data": {
            "text/plain": [
              "['age_yrs',\n",
              " 'lab_data_nan',\n",
              " 'vax_manu_moderna',\n",
              " 'sex_m',\n",
              " 'cur_ill_none',\n",
              " 'vax_manu_pfizer\\\\biontech',\n",
              " 'vax_dose_series_2+',\n",
              " 'cur_ill_nan',\n",
              " 'other_meds_mg',\n",
              " 'other_meds_vitamin',\n",
              " 'allergies_none',\n",
              " 'vax_dose_series_unk',\n",
              " 'lab_data_test',\n",
              " 'other_meds_nan',\n",
              " 'lab_data_none']"
            ]
          },
          "metadata": {},
          "execution_count": 38
        }
      ]
    },
    {
      "cell_type": "markdown",
      "metadata": {
        "id": "b63bb308"
      },
      "source": [
        "# Incorporate Active Ingredients"
      ],
      "id": "b63bb308"
    },
    {
      "cell_type": "code",
      "metadata": {
        "id": "93094294"
      },
      "source": [
        "df2 = pd.read_csv(\"../../src/processed/covid_vaccine_symptoms 2.csv\")\n",
        "df2[\"active_ingredients\"] = df2[\"active_ingredients\"].apply(lambda x: \", \".join(i for i in eval(x)))\n",
        "df2[\"drug_group\"] = df2[\"drug_group\"].apply(lambda x: \", \".join(i for i in eval(x)))"
      ],
      "id": "93094294",
      "execution_count": null,
      "outputs": []
    },
    {
      "cell_type": "code",
      "metadata": {
        "id": "1b72907b"
      },
      "source": [
        "features2 = [\"vax_manu\", \"vax_dose_series\", \"state\", \"age_yrs\", \"sex\", \"lab_data_cleaned\", \"other_meds_cleaned\", \"cur_ill_cleaned\", \"history_cleaned\", \"prior_vax_cleaned\", \"allergies_cleaned\", \"active_ingredients_cleaned\", \"drug_group_cleaned\"]\n",
        "X2 = df2[features2] \n",
        "y2 = df2[\"serious_se\"]\n",
        "\n",
        "X2_train, X2_test, y2_train, y2_test = train_test_split(X2, y2, test_size = 0.2, random_state=3258)\n",
        "X2_train, X2_val, y2_train, y2_val = train_test_split(X2_train, y2_train, test_size = 0.2, random_state = 5829)"
      ],
      "id": "1b72907b",
      "execution_count": null,
      "outputs": []
    },
    {
      "cell_type": "code",
      "metadata": {
        "id": "8fe61e9a",
        "outputId": "8c3f54eb-3bad-43b1-fbc5-4d92586cd288"
      },
      "source": [
        "#Active Ingredient\n",
        "tv_ai = TfidfVectorizer(min_df = 0.001, ngram_range = (1,3))\n",
        "tv_ai_train = tv_ai.fit_transform(X2_train[\"active_ingredients_cleaned\"].astype(str))\n",
        "tv_ai_val = tv_ai.transform(X2_val[\"active_ingredients_cleaned\"].astype(str))\n",
        "tv_ai_test = tv_ai.transform(X2_test[\"active_ingredients_cleaned\"].astype(str))\n",
        "tv_ai_train.shape"
      ],
      "id": "8fe61e9a",
      "execution_count": null,
      "outputs": [
        {
          "data": {
            "text/plain": [
              "(68866, 475)"
            ]
          },
          "execution_count": 206,
          "metadata": {},
          "output_type": "execute_result"
        }
      ]
    },
    {
      "cell_type": "code",
      "metadata": {
        "id": "1dd6efdc",
        "outputId": "da434645-d050-4636-d521-cc89cd80164d"
      },
      "source": [
        "#Drug Group\n",
        "tv_dg = TfidfVectorizer(min_df = 0.001, ngram_range = (1,3))\n",
        "tv_dg_train = tv_dg.fit_transform(X2_train[\"drug_group_cleaned\"].astype(str))\n",
        "tv_dg_val = tv_dg.transform(X2_val[\"drug_group_cleaned\"].astype(str))\n",
        "tv_dg_test = tv_dg.transform(X2_test[\"drug_group_cleaned\"].astype(str))\n",
        "tv_dg_train.shape"
      ],
      "id": "1dd6efdc",
      "execution_count": null,
      "outputs": [
        {
          "data": {
            "text/plain": [
              "(68866, 291)"
            ]
          },
          "execution_count": 207,
          "metadata": {},
          "output_type": "execute_result"
        }
      ]
    },
    {
      "cell_type": "code",
      "metadata": {
        "id": "5f68cdd4"
      },
      "source": [
        "scaler2 = StandardScaler()\n",
        "xtrain2 = hstack((X_train_sparse, tv_lab_data_train, tv_other_meds_train, tv_cur_ill_train, tv_history_train, tv_vax_train, tv_allergies_train, tv_ai_train, tv_dg_train)).toarray()\n",
        "xval2 = hstack((X_val_sparse, tv_lab_data_val, tv_other_meds_val, tv_cur_ill_val, tv_history_val, tv_vax_val, tv_allergies_val, tv_ai_val, tv_dg_val)).toarray()\n",
        "xtest2 = hstack((X_test_sparse, tv_lab_data_test, tv_other_meds_test, tv_cur_ill_test, tv_history_test, tv_vax_test, tv_allergies_test, tv_ai_test, tv_dg_test)).toarray()\n",
        "scaler2.fit(xtrain2)\n",
        "xtrain2 = scaler2.transform(xtrain2)\n",
        "xval2 = scaler2.transform(xval2)\n",
        "xtest2 = scaler2.transform(xtest2)"
      ],
      "id": "5f68cdd4",
      "execution_count": null,
      "outputs": []
    },
    {
      "cell_type": "markdown",
      "metadata": {
        "id": "03782da7"
      },
      "source": [
        "## Logistic Regression"
      ],
      "id": "03782da7"
    },
    {
      "cell_type": "code",
      "metadata": {
        "id": "ab3965f4",
        "outputId": "ea479ecc-0500-4b4d-cf14-21548e892f99"
      },
      "source": [
        "C = [0, 0.000025, 0.00005, 0.0001]\n",
        "for c in C: \n",
        "    lr = LogisticRegression(multi_class=\"multinomial\", solver = \"lbfgs\", penalty = \"l2\", C = c)\n",
        "    lr_cv = RepeatedStratifiedKFold(n_splits = 3, n_repeats = 1, random_state = 2352)\n",
        "    n_scores = cross_val_score(lr, xtrain2, ytrain, scoring = \"accuracy\", cv = lr_cv, n_jobs = -1)\n",
        "    print(\"C:\", c)\n",
        "    print('Mean Accuracy: %.3f (%.3f)' % (np.mean(n_scores), np.std(n_scores)))"
      ],
      "id": "ab3965f4",
      "execution_count": null,
      "outputs": [
        {
          "name": "stdout",
          "output_type": "stream",
          "text": [
            "C: 0\n",
            "Mean Accuracy: nan (nan)\n",
            "C: 2.5e-05\n",
            "Mean Accuracy: 0.834 (0.001)\n",
            "C: 5e-05\n",
            "Mean Accuracy: 0.839 (0.001)\n",
            "C: 0.0001\n",
            "Mean Accuracy: 0.842 (0.001)\n"
          ]
        }
      ]
    },
    {
      "cell_type": "code",
      "metadata": {
        "id": "8e7ff840"
      },
      "source": [
        "lr2 = LogisticRegression(multi_class = \"multinomial\", solver = \"lbfgs\", penalty = \"l2\", C = 0.0001)\n",
        "lr2.fit(xtrain2, ytrain)\n",
        "lr2_predictions_proba = pd.DataFrame(lr2.predict_proba(xval2))\n",
        "lr2_preds = np.array(lr2_predictions_proba.idxmax(axis = 1))"
      ],
      "id": "8e7ff840",
      "execution_count": null,
      "outputs": []
    },
    {
      "cell_type": "markdown",
      "metadata": {
        "id": "dc873322"
      },
      "source": [
        "## Boosting"
      ],
      "id": "dc873322"
    },
    {
      "cell_type": "code",
      "metadata": {
        "id": "ba9a0917",
        "outputId": "ccd0a8ef-926c-4080-c721-69c2618223c4"
      },
      "source": [
        "boosting_clf_lr2 = HistGradientBoostingClassifier(random_state = 1530, tol = 0.00001)\n",
        "cv = 3\n",
        "params = {\"learning_rate\": [0.2, 0.15, 0.1, 0.05, 0.5],\n",
        "          }\n",
        "model = GridSearchCV(boosting_clf_lr2, \n",
        "                     param_grid = params, \n",
        "                     scoring = \"f1_weighted\", \n",
        "                     n_jobs = -1, \n",
        "                     cv = cv, \n",
        "                    verbose = 3)\n",
        "model.fit(xtrain2, ytrain)"
      ],
      "id": "ba9a0917",
      "execution_count": null,
      "outputs": [
        {
          "name": "stdout",
          "output_type": "stream",
          "text": [
            "Fitting 3 folds for each of 5 candidates, totalling 15 fits\n",
            "[CV 1/3] END .................learning_rate=0.2;, score=0.827 total time=10.4min\n",
            "[CV 3/3] END ................learning_rate=0.15;, score=0.829 total time= 7.3min\n",
            "[CV 1/3] END ................learning_rate=0.05;, score=0.827 total time=20.1min\n",
            "[CV 2/3] END .................learning_rate=0.2;, score=0.833 total time= 9.5min\n",
            "[CV 2/3] END ................learning_rate=0.15;, score=0.833 total time= 7.2min\n",
            "[CV 3/3] END .................learning_rate=0.1;, score=0.828 total time=14.0min\n",
            "[CV 1/3] END .................learning_rate=0.5;, score=0.813 total time= 2.9min\n",
            "[CV 2/3] END .................learning_rate=0.5;, score=0.817 total time= 2.8min\n",
            "[CV 3/3] END .................learning_rate=0.5;, score=0.816 total time= 3.9min\n"
          ]
        },
        {
          "data": {
            "text/plain": [
              "GridSearchCV(cv=3,\n",
              "             estimator=HistGradientBoostingClassifier(random_state=1530,\n",
              "                                                      tol=1e-05),\n",
              "             n_jobs=-1,\n",
              "             param_grid={'learning_rate': [0.2, 0.15, 0.1, 0.05, 0.5]},\n",
              "             scoring='f1_weighted', verbose=3)"
            ]
          },
          "execution_count": 221,
          "metadata": {},
          "output_type": "execute_result"
        },
        {
          "name": "stdout",
          "output_type": "stream",
          "text": [
            "[CV 3/3] END .................learning_rate=0.2;, score=0.827 total time=11.4min\n",
            "[CV 1/3] END .................learning_rate=0.1;, score=0.826 total time=10.6min\n",
            "[CV 2/3] END ................learning_rate=0.05;, score=0.833 total time=19.9min\n",
            "[CV 1/3] END ................learning_rate=0.15;, score=0.827 total time=11.5min\n",
            "[CV 2/3] END .................learning_rate=0.1;, score=0.833 total time=10.9min\n",
            "[CV 3/3] END ................learning_rate=0.05;, score=0.829 total time=19.7min\n"
          ]
        }
      ]
    },
    {
      "cell_type": "code",
      "metadata": {
        "id": "bc057898",
        "outputId": "f4e849a9-3dc4-4402-d315-f6fe58244d37"
      },
      "source": [
        "model.best_params_"
      ],
      "id": "bc057898",
      "execution_count": null,
      "outputs": [
        {
          "data": {
            "text/plain": [
              "{'learning_rate': 0.15}"
            ]
          },
          "execution_count": 222,
          "metadata": {},
          "output_type": "execute_result"
        }
      ]
    },
    {
      "cell_type": "code",
      "metadata": {
        "id": "149bef13",
        "outputId": "e4cd7cb0-f3e5-4499-e024-72da95250ab0"
      },
      "source": [
        "boosting_clf_l2 = HistGradientBoostingClassifier(learning_rate = 0.15, random_state = 1530, tol = 0.00001)\n",
        "cv = 3\n",
        "params = {\"l2_regularization\": [0, 0.0001, 0.001, 0.01],\n",
        "          }\n",
        "model = GridSearchCV(boosting_clf_l2, \n",
        "                     param_grid = params, \n",
        "                     scoring = \"f1_weighted\", \n",
        "                     n_jobs = -1, \n",
        "                     cv = cv, \n",
        "                    verbose = 3)\n",
        "model.fit(xtrain2, ytrain)"
      ],
      "id": "149bef13",
      "execution_count": null,
      "outputs": [
        {
          "name": "stdout",
          "output_type": "stream",
          "text": [
            "Fitting 3 folds for each of 4 candidates, totalling 12 fits\n"
          ]
        },
        {
          "data": {
            "text/plain": [
              "GridSearchCV(cv=3,\n",
              "             estimator=HistGradientBoostingClassifier(learning_rate=0.15,\n",
              "                                                      random_state=1530,\n",
              "                                                      tol=1e-05),\n",
              "             n_jobs=-1,\n",
              "             param_grid={'l2_regularization': [0, 0.0001, 0.001, 0.01]},\n",
              "             scoring='f1_weighted', verbose=3)"
            ]
          },
          "execution_count": 233,
          "metadata": {},
          "output_type": "execute_result"
        },
        {
          "name": "stdout",
          "output_type": "stream",
          "text": [
            "[CV 1/3] END ...............l2_regularization=0;, score=0.827 total time= 9.7min\n",
            "[CV 2/3] END ..........l2_regularization=0.0001;, score=0.833 total time= 5.3min\n",
            "[CV 3/3] END ...........l2_regularization=0.001;, score=0.829 total time= 6.8min\n",
            "[CV 1/3] END ..........l2_regularization=0.0001;, score=0.827 total time=10.3min\n",
            "[CV 1/3] END ...........l2_regularization=0.001;, score=0.827 total time= 5.7min\n",
            "[CV 1/3] END ............l2_regularization=0.01;, score=0.825 total time= 5.7min\n",
            "[CV 2/3] END ...............l2_regularization=0;, score=0.833 total time=10.2min\n",
            "[CV 3/3] END ..........l2_regularization=0.0001;, score=0.829 total time= 6.5min\n",
            "[CV 2/3] END ............l2_regularization=0.01;, score=0.834 total time= 5.3min\n",
            "[CV 3/3] END ...............l2_regularization=0;, score=0.829 total time=11.5min\n",
            "[CV 2/3] END ...........l2_regularization=0.001;, score=0.833 total time= 6.0min\n",
            "[CV 3/3] END ............l2_regularization=0.01;, score=0.829 total time= 5.9min\n"
          ]
        }
      ]
    },
    {
      "cell_type": "code",
      "metadata": {
        "id": "bd3d6719",
        "outputId": "2b260501-dc66-4e3a-9398-fd7054f46cb6"
      },
      "source": [
        "model.best_params_"
      ],
      "id": "bd3d6719",
      "execution_count": null,
      "outputs": [
        {
          "data": {
            "text/plain": [
              "{'l2_regularization': 0}"
            ]
          },
          "execution_count": 234,
          "metadata": {},
          "output_type": "execute_result"
        }
      ]
    },
    {
      "cell_type": "code",
      "metadata": {
        "id": "d29c9095"
      },
      "source": [
        "boosting2 = HistGradientBoostingClassifier(learning_rate = 0.15, random_state = 1530, tol = 0.00001, l2_regularization = 0.001)\n",
        "boosting2.fit(xtrain2, ytrain)\n",
        "boosting2_predictions_proba = pd.DataFrame(boosting.predict_proba(xval))\n",
        "boosting2_preds = np.array(boosting_predictions_proba.idxmax(axis = 1))"
      ],
      "id": "d29c9095",
      "execution_count": null,
      "outputs": []
    },
    {
      "cell_type": "code",
      "metadata": {
        "id": "5ea8cec7",
        "outputId": "460c7d5a-c84c-4de2-a07d-a2dae27ed1f4"
      },
      "source": [
        "print(classification_report(yval, boosting2_preds, digits = 3))"
      ],
      "id": "5ea8cec7",
      "execution_count": null,
      "outputs": [
        {
          "name": "stdout",
          "output_type": "stream",
          "text": [
            "              precision    recall  f1-score   support\n",
            "\n",
            "           0      0.872     0.974     0.920     13702\n",
            "           1      0.746     0.402     0.522      3006\n",
            "           2      0.580     0.328     0.419       509\n",
            "\n",
            "    accuracy                          0.855     17217\n",
            "   macro avg      0.732     0.568     0.620     17217\n",
            "weighted avg      0.841     0.855     0.836     17217\n",
            "\n"
          ]
        }
      ]
    },
    {
      "cell_type": "markdown",
      "metadata": {
        "id": "GRZnH3d1010m"
      },
      "source": [
        "* Not adding any significant improvement on boosting training, cease maximizing rest of models"
      ],
      "id": "GRZnH3d1010m"
    }
  ]
}